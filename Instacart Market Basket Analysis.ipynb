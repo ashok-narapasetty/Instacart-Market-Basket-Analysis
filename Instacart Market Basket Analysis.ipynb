{
 "cells": [
  {
   "cell_type": "markdown",
   "metadata": {},
   "source": [
    "# Instacart By Ashok Kumar Narapasetty\n",
    "\n",
    "Lets get an understanding of what our problem is:\n",
    "\n",
    "## What is our target variable\n",
    "\n",
    "We have to predict the list of products in users next orders.  \n",
    "it is mentioned that users next orders will only contain prior products.  \n",
    "So, For each product we need to check weather the user will reorder that product or not.\n",
    "Our target variable is **reordered** which is either 0 or 1.  \n",
    "So, This is a **classification problem**.\n",
    "\n",
    "## Building Train and Test data\n",
    "\n",
    "Train and Test data is not properly divided.  \n",
    "So, we have to create Train and Test data using **eval_set** vatiable in **orders** dataset.\n",
    "\n",
    "## 1. Lets begin with loading the required libraries and loading our data"
   ]
  },
  {
   "cell_type": "code",
   "execution_count": 1,
   "metadata": {
    "collapsed": true
   },
   "outputs": [],
   "source": [
    "import os\n",
    "import glob\n",
    "from os import listdir\n",
    "import pandas as pd\n",
    "import numpy as np\n",
    "import matplotlib.pyplot as plt\n",
    "import seaborn as sns"
   ]
  },
  {
   "cell_type": "code",
   "execution_count": 2,
   "metadata": {
    "collapsed": true
   },
   "outputs": [],
   "source": [
    "from sklearn.ensemble import RandomForestClassifier"
   ]
  },
  {
   "cell_type": "code",
   "execution_count": 3,
   "metadata": {},
   "outputs": [
    {
     "data": {
      "text/plain": [
       "'/gpfs/global_fs01/sym_shared/YPProdSpark/user/se05-b574f15314feea-32f81314edb4/notebook/work'"
      ]
     },
     "execution_count": 3,
     "metadata": {},
     "output_type": "execute_result"
    }
   ],
   "source": [
    "#os.chdir('../assets')\n",
    "os.getcwd()"
   ]
  },
  {
   "cell_type": "code",
   "execution_count": 4,
   "metadata": {},
   "outputs": [
    {
     "name": "stdout",
     "output_type": "stream",
     "text": [
      "insta_result.csv\n"
     ]
    }
   ],
   "source": [
    "for i in glob.glob('*.csv'):\n",
    "    print(i)"
   ]
  },
  {
   "cell_type": "code",
   "execution_count": 5,
   "metadata": {},
   "outputs": [
    {
     "data": {
      "text/html": [
       "<div>\n",
       "<table border=\"1\" class=\"dataframe\">\n",
       "  <thead>\n",
       "    <tr style=\"text-align: right;\">\n",
       "      <th></th>\n",
       "      <th>aisle_id</th>\n",
       "      <th>aisle</th>\n",
       "    </tr>\n",
       "  </thead>\n",
       "  <tbody>\n",
       "    <tr>\n",
       "      <th>0</th>\n",
       "      <td>1</td>\n",
       "      <td>prepared soups salads</td>\n",
       "    </tr>\n",
       "    <tr>\n",
       "      <th>1</th>\n",
       "      <td>2</td>\n",
       "      <td>specialty cheeses</td>\n",
       "    </tr>\n",
       "    <tr>\n",
       "      <th>2</th>\n",
       "      <td>3</td>\n",
       "      <td>energy granola bars</td>\n",
       "    </tr>\n",
       "    <tr>\n",
       "      <th>3</th>\n",
       "      <td>4</td>\n",
       "      <td>instant foods</td>\n",
       "    </tr>\n",
       "    <tr>\n",
       "      <th>4</th>\n",
       "      <td>5</td>\n",
       "      <td>marinades meat preparation</td>\n",
       "    </tr>\n",
       "  </tbody>\n",
       "</table>\n",
       "</div>"
      ],
      "text/plain": [
       "   aisle_id                       aisle\n",
       "0         1       prepared soups salads\n",
       "1         2           specialty cheeses\n",
       "2         3         energy granola bars\n",
       "3         4               instant foods\n",
       "4         5  marinades meat preparation"
      ]
     },
     "execution_count": 5,
     "metadata": {},
     "output_type": "execute_result"
    }
   ],
   "source": [
    "aisles = pd.read_csv('aisles.csv')\n",
    "aisles.head()"
   ]
  },
  {
   "cell_type": "code",
   "execution_count": 6,
   "metadata": {
    "collapsed": true
   },
   "outputs": [],
   "source": [
    "departments = pd.read_csv('departments.csv')"
   ]
  },
  {
   "cell_type": "code",
   "execution_count": 7,
   "metadata": {
    "collapsed": true
   },
   "outputs": [],
   "source": [
    "order_products__prior = pd.read_csv('order_products__prior.csv')"
   ]
  },
  {
   "cell_type": "code",
   "execution_count": 8,
   "metadata": {
    "collapsed": true
   },
   "outputs": [],
   "source": [
    "order_products__train = pd.read_csv('order_products__train.csv')"
   ]
  },
  {
   "cell_type": "code",
   "execution_count": 9,
   "metadata": {
    "collapsed": true
   },
   "outputs": [],
   "source": [
    "orders = pd.read_csv('orders.csv')"
   ]
  },
  {
   "cell_type": "code",
   "execution_count": 10,
   "metadata": {
    "collapsed": true
   },
   "outputs": [],
   "source": [
    "products = pd.read_csv('products.csv')"
   ]
  },
  {
   "cell_type": "markdown",
   "metadata": {},
   "source": [
    "\n",
    "## 2. Getting to know our Data Sets"
   ]
  },
  {
   "cell_type": "code",
   "execution_count": 11,
   "metadata": {},
   "outputs": [
    {
     "name": "stdout",
     "output_type": "stream",
     "text": [
      "__Dimensions of our Data Sets__\n",
      "aisles                         (134, 2)\n",
      "departments                    (21, 2)\n",
      "order_products__prior          (32434489, 4)\n",
      "order_products__train          (1384617, 4)\n",
      "orders                         (3421083, 7)\n",
      "products                       (49688, 4)\n"
     ]
    }
   ],
   "source": [
    "print '__Dimensions of our Data Sets__'\n",
    "print 'aisles'.ljust(30),aisles.shape\n",
    "print 'departments'.ljust(30),departments.shape\n",
    "print 'order_products__prior'.ljust(30),order_products__prior.shape\n",
    "print 'order_products__train'.ljust(30),order_products__train.shape\n",
    "print 'orders'.ljust(30),orders.shape\n",
    "print 'products'.ljust(30),products.shape"
   ]
  },
  {
   "cell_type": "code",
   "execution_count": 12,
   "metadata": {},
   "outputs": [
    {
     "name": "stdout",
     "output_type": "stream",
     "text": [
      "aisle Overview:\n"
     ]
    },
    {
     "data": {
      "text/html": [
       "<div>\n",
       "<table border=\"1\" class=\"dataframe\">\n",
       "  <thead>\n",
       "    <tr style=\"text-align: right;\">\n",
       "      <th></th>\n",
       "      <th>aisle_id</th>\n",
       "      <th>aisle</th>\n",
       "    </tr>\n",
       "  </thead>\n",
       "  <tbody>\n",
       "    <tr>\n",
       "      <th>0</th>\n",
       "      <td>1</td>\n",
       "      <td>prepared soups salads</td>\n",
       "    </tr>\n",
       "    <tr>\n",
       "      <th>1</th>\n",
       "      <td>2</td>\n",
       "      <td>specialty cheeses</td>\n",
       "    </tr>\n",
       "    <tr>\n",
       "      <th>2</th>\n",
       "      <td>3</td>\n",
       "      <td>energy granola bars</td>\n",
       "    </tr>\n",
       "    <tr>\n",
       "      <th>3</th>\n",
       "      <td>4</td>\n",
       "      <td>instant foods</td>\n",
       "    </tr>\n",
       "    <tr>\n",
       "      <th>4</th>\n",
       "      <td>5</td>\n",
       "      <td>marinades meat preparation</td>\n",
       "    </tr>\n",
       "  </tbody>\n",
       "</table>\n",
       "</div>"
      ],
      "text/plain": [
       "   aisle_id                       aisle\n",
       "0         1       prepared soups salads\n",
       "1         2           specialty cheeses\n",
       "2         3         energy granola bars\n",
       "3         4               instant foods\n",
       "4         5  marinades meat preparation"
      ]
     },
     "execution_count": 12,
     "metadata": {},
     "output_type": "execute_result"
    }
   ],
   "source": [
    "print('aisle Overview:')\n",
    "aisles.head()"
   ]
  },
  {
   "cell_type": "markdown",
   "metadata": {},
   "source": [
    "### creating a function to get aisle when aisle_id is passed"
   ]
  },
  {
   "cell_type": "code",
   "execution_count": 13,
   "metadata": {
    "collapsed": true
   },
   "outputs": [],
   "source": [
    "def get_aisle(id):\n",
    "    return aisles[aisles['aisle_id'] == id].iloc[0,1]"
   ]
  },
  {
   "cell_type": "code",
   "execution_count": 14,
   "metadata": {},
   "outputs": [
    {
     "name": "stdout",
     "output_type": "stream",
     "text": [
      "departments Overview:\n"
     ]
    },
    {
     "data": {
      "text/html": [
       "<div>\n",
       "<table border=\"1\" class=\"dataframe\">\n",
       "  <thead>\n",
       "    <tr style=\"text-align: right;\">\n",
       "      <th></th>\n",
       "      <th>department_id</th>\n",
       "      <th>department</th>\n",
       "    </tr>\n",
       "  </thead>\n",
       "  <tbody>\n",
       "    <tr>\n",
       "      <th>0</th>\n",
       "      <td>1</td>\n",
       "      <td>frozen</td>\n",
       "    </tr>\n",
       "    <tr>\n",
       "      <th>1</th>\n",
       "      <td>2</td>\n",
       "      <td>other</td>\n",
       "    </tr>\n",
       "    <tr>\n",
       "      <th>2</th>\n",
       "      <td>3</td>\n",
       "      <td>bakery</td>\n",
       "    </tr>\n",
       "    <tr>\n",
       "      <th>3</th>\n",
       "      <td>4</td>\n",
       "      <td>produce</td>\n",
       "    </tr>\n",
       "    <tr>\n",
       "      <th>4</th>\n",
       "      <td>5</td>\n",
       "      <td>alcohol</td>\n",
       "    </tr>\n",
       "  </tbody>\n",
       "</table>\n",
       "</div>"
      ],
      "text/plain": [
       "   department_id department\n",
       "0              1     frozen\n",
       "1              2      other\n",
       "2              3     bakery\n",
       "3              4    produce\n",
       "4              5    alcohol"
      ]
     },
     "execution_count": 14,
     "metadata": {},
     "output_type": "execute_result"
    }
   ],
   "source": [
    "print('departments Overview:')\n",
    "departments.head()"
   ]
  },
  {
   "cell_type": "markdown",
   "metadata": {},
   "source": [
    "## creating a function to get aisle when aisle_id is passed"
   ]
  },
  {
   "cell_type": "code",
   "execution_count": 15,
   "metadata": {
    "collapsed": true
   },
   "outputs": [],
   "source": [
    "def get_department(id):\n",
    "    return departments[departments['department_id'] == id].iloc[0,1]"
   ]
  },
  {
   "cell_type": "markdown",
   "metadata": {},
   "source": [
    "## Now let's take a look at Products data set"
   ]
  },
  {
   "cell_type": "code",
   "execution_count": 16,
   "metadata": {},
   "outputs": [
    {
     "name": "stdout",
     "output_type": "stream",
     "text": [
      "products overview\n"
     ]
    },
    {
     "data": {
      "text/html": [
       "<div>\n",
       "<table border=\"1\" class=\"dataframe\">\n",
       "  <thead>\n",
       "    <tr style=\"text-align: right;\">\n",
       "      <th></th>\n",
       "      <th>product_id</th>\n",
       "      <th>product_name</th>\n",
       "      <th>aisle_id</th>\n",
       "      <th>department_id</th>\n",
       "    </tr>\n",
       "  </thead>\n",
       "  <tbody>\n",
       "    <tr>\n",
       "      <th>0</th>\n",
       "      <td>1</td>\n",
       "      <td>Chocolate Sandwich Cookies</td>\n",
       "      <td>61</td>\n",
       "      <td>19</td>\n",
       "    </tr>\n",
       "    <tr>\n",
       "      <th>1</th>\n",
       "      <td>2</td>\n",
       "      <td>All-Seasons Salt</td>\n",
       "      <td>104</td>\n",
       "      <td>13</td>\n",
       "    </tr>\n",
       "    <tr>\n",
       "      <th>2</th>\n",
       "      <td>3</td>\n",
       "      <td>Robust Golden Unsweetened Oolong Tea</td>\n",
       "      <td>94</td>\n",
       "      <td>7</td>\n",
       "    </tr>\n",
       "    <tr>\n",
       "      <th>3</th>\n",
       "      <td>4</td>\n",
       "      <td>Smart Ones Classic Favorites Mini Rigatoni Wit...</td>\n",
       "      <td>38</td>\n",
       "      <td>1</td>\n",
       "    </tr>\n",
       "    <tr>\n",
       "      <th>4</th>\n",
       "      <td>5</td>\n",
       "      <td>Green Chile Anytime Sauce</td>\n",
       "      <td>5</td>\n",
       "      <td>13</td>\n",
       "    </tr>\n",
       "  </tbody>\n",
       "</table>\n",
       "</div>"
      ],
      "text/plain": [
       "   product_id                                       product_name  aisle_id  \\\n",
       "0           1                         Chocolate Sandwich Cookies        61   \n",
       "1           2                                   All-Seasons Salt       104   \n",
       "2           3               Robust Golden Unsweetened Oolong Tea        94   \n",
       "3           4  Smart Ones Classic Favorites Mini Rigatoni Wit...        38   \n",
       "4           5                          Green Chile Anytime Sauce         5   \n",
       "\n",
       "   department_id  \n",
       "0             19  \n",
       "1             13  \n",
       "2              7  \n",
       "3              1  \n",
       "4             13  "
      ]
     },
     "execution_count": 16,
     "metadata": {},
     "output_type": "execute_result"
    }
   ],
   "source": [
    "print('products overview')\n",
    "products.head()"
   ]
  },
  {
   "cell_type": "markdown",
   "metadata": {},
   "source": [
    "Here we can add **aisles** and **departmrnts** data sets to **products** data set using **aisle_id** and **department_id**"
   ]
  },
  {
   "cell_type": "code",
   "execution_count": 17,
   "metadata": {
    "collapsed": true
   },
   "outputs": [],
   "source": [
    "products['aisle'] = np.vectorize(get_aisle)(products['aisle_id'])"
   ]
  },
  {
   "cell_type": "code",
   "execution_count": 18,
   "metadata": {
    "collapsed": true
   },
   "outputs": [],
   "source": [
    "products['department'] = np.vectorize(get_department)(products['department_id'])"
   ]
  },
  {
   "cell_type": "code",
   "execution_count": 19,
   "metadata": {},
   "outputs": [
    {
     "name": "stdout",
     "output_type": "stream",
     "text": [
      "Products overview after adding aisle and department columns\n"
     ]
    },
    {
     "data": {
      "text/html": [
       "<div>\n",
       "<table border=\"1\" class=\"dataframe\">\n",
       "  <thead>\n",
       "    <tr style=\"text-align: right;\">\n",
       "      <th></th>\n",
       "      <th>product_id</th>\n",
       "      <th>product_name</th>\n",
       "      <th>aisle_id</th>\n",
       "      <th>department_id</th>\n",
       "      <th>aisle</th>\n",
       "      <th>department</th>\n",
       "    </tr>\n",
       "  </thead>\n",
       "  <tbody>\n",
       "    <tr>\n",
       "      <th>0</th>\n",
       "      <td>1</td>\n",
       "      <td>Chocolate Sandwich Cookies</td>\n",
       "      <td>61</td>\n",
       "      <td>19</td>\n",
       "      <td>cookies cakes</td>\n",
       "      <td>snacks</td>\n",
       "    </tr>\n",
       "    <tr>\n",
       "      <th>1</th>\n",
       "      <td>2</td>\n",
       "      <td>All-Seasons Salt</td>\n",
       "      <td>104</td>\n",
       "      <td>13</td>\n",
       "      <td>spices seasonings</td>\n",
       "      <td>pantry</td>\n",
       "    </tr>\n",
       "    <tr>\n",
       "      <th>2</th>\n",
       "      <td>3</td>\n",
       "      <td>Robust Golden Unsweetened Oolong Tea</td>\n",
       "      <td>94</td>\n",
       "      <td>7</td>\n",
       "      <td>tea</td>\n",
       "      <td>beverages</td>\n",
       "    </tr>\n",
       "    <tr>\n",
       "      <th>3</th>\n",
       "      <td>4</td>\n",
       "      <td>Smart Ones Classic Favorites Mini Rigatoni Wit...</td>\n",
       "      <td>38</td>\n",
       "      <td>1</td>\n",
       "      <td>frozen meals</td>\n",
       "      <td>frozen</td>\n",
       "    </tr>\n",
       "    <tr>\n",
       "      <th>4</th>\n",
       "      <td>5</td>\n",
       "      <td>Green Chile Anytime Sauce</td>\n",
       "      <td>5</td>\n",
       "      <td>13</td>\n",
       "      <td>marinades meat preparation</td>\n",
       "      <td>pantry</td>\n",
       "    </tr>\n",
       "  </tbody>\n",
       "</table>\n",
       "</div>"
      ],
      "text/plain": [
       "   product_id                                       product_name  aisle_id  \\\n",
       "0           1                         Chocolate Sandwich Cookies        61   \n",
       "1           2                                   All-Seasons Salt       104   \n",
       "2           3               Robust Golden Unsweetened Oolong Tea        94   \n",
       "3           4  Smart Ones Classic Favorites Mini Rigatoni Wit...        38   \n",
       "4           5                          Green Chile Anytime Sauce         5   \n",
       "\n",
       "   department_id                       aisle department  \n",
       "0             19               cookies cakes     snacks  \n",
       "1             13           spices seasonings     pantry  \n",
       "2              7                         tea  beverages  \n",
       "3              1                frozen meals     frozen  \n",
       "4             13  marinades meat preparation     pantry  "
      ]
     },
     "execution_count": 19,
     "metadata": {},
     "output_type": "execute_result"
    }
   ],
   "source": [
    "print('Products overview after adding aisle and department columns')\n",
    "products.head()"
   ]
  },
  {
   "cell_type": "markdown",
   "metadata": {},
   "source": [
    "Now we can remove **aisles** and **departments**."
   ]
  },
  {
   "cell_type": "code",
   "execution_count": 20,
   "metadata": {
    "collapsed": true
   },
   "outputs": [],
   "source": [
    "del (aisles, departments)"
   ]
  },
  {
   "cell_type": "code",
   "execution_count": 21,
   "metadata": {},
   "outputs": [
    {
     "name": "stdout",
     "output_type": "stream",
     "text": [
      "orders Overview\n"
     ]
    },
    {
     "data": {
      "text/html": [
       "<div>\n",
       "<table border=\"1\" class=\"dataframe\">\n",
       "  <thead>\n",
       "    <tr style=\"text-align: right;\">\n",
       "      <th></th>\n",
       "      <th>order_id</th>\n",
       "      <th>user_id</th>\n",
       "      <th>eval_set</th>\n",
       "      <th>order_number</th>\n",
       "      <th>order_dow</th>\n",
       "      <th>order_hour_of_day</th>\n",
       "      <th>days_since_prior_order</th>\n",
       "    </tr>\n",
       "  </thead>\n",
       "  <tbody>\n",
       "    <tr>\n",
       "      <th>0</th>\n",
       "      <td>2539329</td>\n",
       "      <td>1</td>\n",
       "      <td>prior</td>\n",
       "      <td>1</td>\n",
       "      <td>2</td>\n",
       "      <td>8</td>\n",
       "      <td>NaN</td>\n",
       "    </tr>\n",
       "    <tr>\n",
       "      <th>1</th>\n",
       "      <td>2398795</td>\n",
       "      <td>1</td>\n",
       "      <td>prior</td>\n",
       "      <td>2</td>\n",
       "      <td>3</td>\n",
       "      <td>7</td>\n",
       "      <td>15</td>\n",
       "    </tr>\n",
       "    <tr>\n",
       "      <th>2</th>\n",
       "      <td>473747</td>\n",
       "      <td>1</td>\n",
       "      <td>prior</td>\n",
       "      <td>3</td>\n",
       "      <td>3</td>\n",
       "      <td>12</td>\n",
       "      <td>21</td>\n",
       "    </tr>\n",
       "    <tr>\n",
       "      <th>3</th>\n",
       "      <td>2254736</td>\n",
       "      <td>1</td>\n",
       "      <td>prior</td>\n",
       "      <td>4</td>\n",
       "      <td>4</td>\n",
       "      <td>7</td>\n",
       "      <td>29</td>\n",
       "    </tr>\n",
       "    <tr>\n",
       "      <th>4</th>\n",
       "      <td>431534</td>\n",
       "      <td>1</td>\n",
       "      <td>prior</td>\n",
       "      <td>5</td>\n",
       "      <td>4</td>\n",
       "      <td>15</td>\n",
       "      <td>28</td>\n",
       "    </tr>\n",
       "  </tbody>\n",
       "</table>\n",
       "</div>"
      ],
      "text/plain": [
       "   order_id  user_id eval_set  order_number  order_dow  order_hour_of_day  \\\n",
       "0   2539329        1    prior             1          2                  8   \n",
       "1   2398795        1    prior             2          3                  7   \n",
       "2    473747        1    prior             3          3                 12   \n",
       "3   2254736        1    prior             4          4                  7   \n",
       "4    431534        1    prior             5          4                 15   \n",
       "\n",
       "   days_since_prior_order  \n",
       "0                     NaN  \n",
       "1                      15  \n",
       "2                      21  \n",
       "3                      29  \n",
       "4                      28  "
      ]
     },
     "execution_count": 21,
     "metadata": {},
     "output_type": "execute_result"
    }
   ],
   "source": [
    "print('orders Overview')\n",
    "orders.head()"
   ]
  },
  {
   "cell_type": "code",
   "execution_count": 22,
   "metadata": {},
   "outputs": [
    {
     "data": {
      "text/plain": [
       "75000"
      ]
     },
     "execution_count": 22,
     "metadata": {},
     "output_type": "execute_result"
    }
   ],
   "source": [
    "len(orders[orders['eval_set'] == 'test']['order_id'])"
   ]
  },
  {
   "cell_type": "markdown",
   "metadata": {},
   "source": [
    "**Orders** data set will show us the information of **orders given by users and their sequence**."
   ]
  },
  {
   "cell_type": "markdown",
   "metadata": {},
   "source": [
    "## Let's Know which Hour of the Day People place most of the orders"
   ]
  },
  {
   "cell_type": "code",
   "execution_count": 23,
   "metadata": {
    "collapsed": true
   },
   "outputs": [],
   "source": [
    "which_hour = orders.groupby(['order_hour_of_day'])['order_id'].count().reset_index()"
   ]
  },
  {
   "cell_type": "code",
   "execution_count": 24,
   "metadata": {},
   "outputs": [
    {
     "data": {
      "image/png": "[encoded data removed]",
      "text/plain": [
       "<matplotlib.figure.Figure at 0x7f605413d890>"
      ]
     },
     "metadata": {},
     "output_type": "display_data"
    }
   ],
   "source": [
    "plt.figure(figsize = (12,8))\n",
    "sns.barplot(which_hour.order_hour_of_day, which_hour.order_id)\n",
    "plt.xlabel('Hour of the Day', fontsize = 12)\n",
    "plt.ylabel('Orders Count', fontsize = 12)\n",
    "plt.title('Which hour more orders are placed', fontsize = 12)\n",
    "plt.show()\n",
    "del which_hour"
   ]
  },
  {
   "cell_type": "markdown",
   "metadata": {},
   "source": [
    "This shows that most of the orders will be placed during **8 AM to 6 PM**."
   ]
  },
  {
   "cell_type": "code",
   "execution_count": 25,
   "metadata": {
    "collapsed": true
   },
   "outputs": [],
   "source": [
    "which_day = orders.groupby(['order_dow'])['order_id'].count().reset_index()"
   ]
  },
  {
   "cell_type": "code",
   "execution_count": 26,
   "metadata": {},
   "outputs": [
    {
     "data": {
      "image/png": "[encoded data removed]",
      "text/plain": [
       "<matplotlib.figure.Figure at 0x7f604c92b510>"
      ]
     },
     "metadata": {},
     "output_type": "display_data"
    }
   ],
   "source": [
    "plt.figure(figsize = (12,8))\n",
    "sns.barplot(which_day.order_dow, which_day.order_id)\n",
    "plt.xlabel('Day of the Week', fontsize = 12)\n",
    "plt.ylabel('Orders Count', fontsize = 12)\n",
    "plt.title('Which Day more orders are placed', fontsize = 12)\n",
    "plt.show()\n",
    "del which_day"
   ]
  },
  {
   "cell_type": "markdown",
   "metadata": {},
   "source": [
    "This shows that there will be **less orders in mid week days** and **more orders in weekends**."
   ]
  },
  {
   "cell_type": "markdown",
   "metadata": {},
   "source": [
    "**eval_set** variable in **Orders Data Frame** is our key to separate **Train**, **Test** an **Prior** data."
   ]
  },
  {
   "cell_type": "code",
   "execution_count": 27,
   "metadata": {},
   "outputs": [
    {
     "data": {
      "text/plain": [
       "prior    3214874\n",
       "train     131209\n",
       "test       75000\n",
       "Name: eval_set, dtype: int64"
      ]
     },
     "execution_count": 27,
     "metadata": {},
     "output_type": "execute_result"
    }
   ],
   "source": [
    "orders['eval_set'].value_counts()"
   ]
  },
  {
   "cell_type": "markdown",
   "metadata": {},
   "source": [
    "## Plotting Number of orders present in Prior, Train and Test"
   ]
  },
  {
   "cell_type": "code",
   "execution_count": 28,
   "metadata": {},
   "outputs": [
    {
     "data": {
      "image/png": "[encoded data removed]",
      "text/plain": [
       "<matplotlib.figure.Figure at 0x7f605413de90>"
      ]
     },
     "metadata": {},
     "output_type": "display_data"
    }
   ],
   "source": [
    "counts = pd.DataFrame(orders.eval_set.value_counts())\n",
    "\n",
    "plt.figure(figsize = (12,8))\n",
    "sns.barplot(counts.index, counts.eval_set)\n",
    "plt.xlabel(\"type\", fontsize = 12)\n",
    "plt.ylabel(\"Number of Orders\", fontsize = 12)\n",
    "plt.title(\"counts of prior,train,test\", fontsize = 12)\n",
    "plt.show()\n",
    "del counts"
   ]
  },
  {
   "cell_type": "markdown",
   "metadata": {},
   "source": [
    "This Bar plot shows **Number of orders** present in each of **prior**, **train** and **test**."
   ]
  },
  {
   "cell_type": "code",
   "execution_count": 29,
   "metadata": {},
   "outputs": [
    {
     "data": {
      "text/plain": [
       "eval_set\n",
       "prior    206209\n",
       "test      75000\n",
       "train    131209\n",
       "Name: user_id, dtype: int64"
      ]
     },
     "execution_count": 29,
     "metadata": {},
     "output_type": "execute_result"
    }
   ],
   "source": [
    "orders.groupby(['eval_set'])['user_id'].nunique()"
   ]
  },
  {
   "cell_type": "markdown",
   "metadata": {},
   "source": [
    "### From this we can say:  \n",
    "* Total users     = 206209  \n",
    "* Users in Train  = 131209  \n",
    "* Users in Test   = 75000"
   ]
  },
  {
   "cell_type": "markdown",
   "metadata": {},
   "source": [
    "## Plotting Number of Users present in Prior, Train and Test"
   ]
  },
  {
   "cell_type": "code",
   "execution_count": 30,
   "metadata": {},
   "outputs": [
    {
     "data": {
      "image/png": "[encoded data removed]",
      "text/plain": [
       "<matplotlib.figure.Figure at 0x7f604c92bc90>"
      ]
     },
     "metadata": {},
     "output_type": "display_data"
    }
   ],
   "source": [
    "user_counts = pd.DataFrame(orders.groupby(['eval_set'])['user_id'].nunique())\n",
    "\n",
    "plt.figure(figsize = (12,8))\n",
    "sns.barplot(user_counts.index,user_counts.user_id)\n",
    "plt.xlabel(\"type\", fontsize = 12)\n",
    "plt.ylabel(\"Number of Users\", fontsize = 12)\n",
    "plt.title(\"counts of prior,train,test\", fontsize = 12)\n",
    "plt.show()\n",
    "del user_counts"
   ]
  },
  {
   "cell_type": "code",
   "execution_count": 31,
   "metadata": {},
   "outputs": [
    {
     "name": "stdout",
     "output_type": "stream",
     "text": [
      "order_products__prior Overview:\n"
     ]
    },
    {
     "data": {
      "text/html": [
       "<div>\n",
       "<table border=\"1\" class=\"dataframe\">\n",
       "  <thead>\n",
       "    <tr style=\"text-align: right;\">\n",
       "      <th></th>\n",
       "      <th>order_id</th>\n",
       "      <th>product_id</th>\n",
       "      <th>add_to_cart_order</th>\n",
       "      <th>reordered</th>\n",
       "    </tr>\n",
       "  </thead>\n",
       "  <tbody>\n",
       "    <tr>\n",
       "      <th>0</th>\n",
       "      <td>2</td>\n",
       "      <td>33120</td>\n",
       "      <td>1</td>\n",
       "      <td>1</td>\n",
       "    </tr>\n",
       "    <tr>\n",
       "      <th>1</th>\n",
       "      <td>2</td>\n",
       "      <td>28985</td>\n",
       "      <td>2</td>\n",
       "      <td>1</td>\n",
       "    </tr>\n",
       "    <tr>\n",
       "      <th>2</th>\n",
       "      <td>2</td>\n",
       "      <td>9327</td>\n",
       "      <td>3</td>\n",
       "      <td>0</td>\n",
       "    </tr>\n",
       "    <tr>\n",
       "      <th>3</th>\n",
       "      <td>2</td>\n",
       "      <td>45918</td>\n",
       "      <td>4</td>\n",
       "      <td>1</td>\n",
       "    </tr>\n",
       "    <tr>\n",
       "      <th>4</th>\n",
       "      <td>2</td>\n",
       "      <td>30035</td>\n",
       "      <td>5</td>\n",
       "      <td>0</td>\n",
       "    </tr>\n",
       "  </tbody>\n",
       "</table>\n",
       "</div>"
      ],
      "text/plain": [
       "   order_id  product_id  add_to_cart_order  reordered\n",
       "0         2       33120                  1          1\n",
       "1         2       28985                  2          1\n",
       "2         2        9327                  3          0\n",
       "3         2       45918                  4          1\n",
       "4         2       30035                  5          0"
      ]
     },
     "execution_count": 31,
     "metadata": {},
     "output_type": "execute_result"
    }
   ],
   "source": [
    "print('order_products__prior Overview:')\n",
    "order_products__prior.head()"
   ]
  },
  {
   "cell_type": "code",
   "execution_count": 32,
   "metadata": {},
   "outputs": [
    {
     "name": "stdout",
     "output_type": "stream",
     "text": [
      "order_products__prior Overview:\n"
     ]
    },
    {
     "data": {
      "text/html": [
       "<div>\n",
       "<table border=\"1\" class=\"dataframe\">\n",
       "  <thead>\n",
       "    <tr style=\"text-align: right;\">\n",
       "      <th></th>\n",
       "      <th>order_id</th>\n",
       "      <th>product_id</th>\n",
       "      <th>add_to_cart_order</th>\n",
       "      <th>reordered</th>\n",
       "    </tr>\n",
       "  </thead>\n",
       "  <tbody>\n",
       "    <tr>\n",
       "      <th>0</th>\n",
       "      <td>2</td>\n",
       "      <td>33120</td>\n",
       "      <td>1</td>\n",
       "      <td>1</td>\n",
       "    </tr>\n",
       "    <tr>\n",
       "      <th>1</th>\n",
       "      <td>2</td>\n",
       "      <td>28985</td>\n",
       "      <td>2</td>\n",
       "      <td>1</td>\n",
       "    </tr>\n",
       "    <tr>\n",
       "      <th>2</th>\n",
       "      <td>2</td>\n",
       "      <td>9327</td>\n",
       "      <td>3</td>\n",
       "      <td>0</td>\n",
       "    </tr>\n",
       "    <tr>\n",
       "      <th>3</th>\n",
       "      <td>2</td>\n",
       "      <td>45918</td>\n",
       "      <td>4</td>\n",
       "      <td>1</td>\n",
       "    </tr>\n",
       "    <tr>\n",
       "      <th>4</th>\n",
       "      <td>2</td>\n",
       "      <td>30035</td>\n",
       "      <td>5</td>\n",
       "      <td>0</td>\n",
       "    </tr>\n",
       "  </tbody>\n",
       "</table>\n",
       "</div>"
      ],
      "text/plain": [
       "   order_id  product_id  add_to_cart_order  reordered\n",
       "0         2       33120                  1          1\n",
       "1         2       28985                  2          1\n",
       "2         2        9327                  3          0\n",
       "3         2       45918                  4          1\n",
       "4         2       30035                  5          0"
      ]
     },
     "execution_count": 32,
     "metadata": {},
     "output_type": "execute_result"
    }
   ],
   "source": [
    "print('order_products__prior Overview:')\n",
    "order_products__prior.head()"
   ]
  },
  {
   "cell_type": "markdown",
   "metadata": {},
   "source": [
    "\n",
    "## 3. Missing Value analysis"
   ]
  },
  {
   "cell_type": "code",
   "execution_count": 33,
   "metadata": {},
   "outputs": [
    {
     "data": {
      "text/plain": [
       "order_id                       0\n",
       "user_id                        0\n",
       "eval_set                       0\n",
       "order_number                   0\n",
       "order_dow                      0\n",
       "order_hour_of_day              0\n",
       "days_since_prior_order    206209\n",
       "dtype: int64"
      ]
     },
     "execution_count": 33,
     "metadata": {},
     "output_type": "execute_result"
    }
   ],
   "source": [
    "orders.isnull().sum()"
   ]
  },
  {
   "cell_type": "markdown",
   "metadata": {},
   "source": [
    "**days_since_prior_order** variable in **orders** data set has **206209 null values** because those are users **initial orders**"
   ]
  },
  {
   "cell_type": "code",
   "execution_count": 34,
   "metadata": {},
   "outputs": [
    {
     "data": {
      "text/plain": [
       "order_id             0\n",
       "product_id           0\n",
       "add_to_cart_order    0\n",
       "reordered            0\n",
       "dtype: int64"
      ]
     },
     "execution_count": 34,
     "metadata": {},
     "output_type": "execute_result"
    }
   ],
   "source": [
    "order_products__prior.isnull().sum()"
   ]
  },
  {
   "cell_type": "code",
   "execution_count": 35,
   "metadata": {},
   "outputs": [
    {
     "data": {
      "text/plain": [
       "order_id             0\n",
       "product_id           0\n",
       "add_to_cart_order    0\n",
       "reordered            0\n",
       "dtype: int64"
      ]
     },
     "execution_count": 35,
     "metadata": {},
     "output_type": "execute_result"
    }
   ],
   "source": [
    "order_products__train.isnull().sum()"
   ]
  },
  {
   "cell_type": "code",
   "execution_count": 36,
   "metadata": {},
   "outputs": [
    {
     "data": {
      "text/plain": [
       "product_id       0\n",
       "product_name     0\n",
       "aisle_id         0\n",
       "department_id    0\n",
       "aisle            0\n",
       "department       0\n",
       "dtype: int64"
      ]
     },
     "execution_count": 36,
     "metadata": {},
     "output_type": "execute_result"
    }
   ],
   "source": [
    "products.isnull().sum()"
   ]
  },
  {
   "cell_type": "markdown",
   "metadata": {},
   "source": [
    "So, there are no missing values except in orders['days_since_prior_order'].  \n",
    "But, we should not remove these missing values because they represent **that particualr order is the users first order** and we can use this information later. "
   ]
  },
  {
   "cell_type": "markdown",
   "metadata": {},
   "source": [
    "## 4. Feature Engineering  \n",
    "\n",
    "### Adding User ID to order_products_train"
   ]
  },
  {
   "cell_type": "code",
   "execution_count": 37,
   "metadata": {
    "collapsed": true
   },
   "outputs": [],
   "source": [
    "order_products_train = order_products__train.merge(orders[['order_id','user_id']], on = 'order_id', how = 'left')"
   ]
  },
  {
   "cell_type": "code",
   "execution_count": 38,
   "metadata": {},
   "outputs": [
    {
     "data": {
      "text/html": [
       "<div>\n",
       "<table border=\"1\" class=\"dataframe\">\n",
       "  <thead>\n",
       "    <tr style=\"text-align: right;\">\n",
       "      <th></th>\n",
       "      <th>order_id</th>\n",
       "      <th>product_id</th>\n",
       "      <th>add_to_cart_order</th>\n",
       "      <th>reordered</th>\n",
       "      <th>user_id</th>\n",
       "    </tr>\n",
       "  </thead>\n",
       "  <tbody>\n",
       "    <tr>\n",
       "      <th>0</th>\n",
       "      <td>1</td>\n",
       "      <td>49302</td>\n",
       "      <td>1</td>\n",
       "      <td>1</td>\n",
       "      <td>112108</td>\n",
       "    </tr>\n",
       "    <tr>\n",
       "      <th>1</th>\n",
       "      <td>1</td>\n",
       "      <td>11109</td>\n",
       "      <td>2</td>\n",
       "      <td>1</td>\n",
       "      <td>112108</td>\n",
       "    </tr>\n",
       "    <tr>\n",
       "      <th>2</th>\n",
       "      <td>1</td>\n",
       "      <td>10246</td>\n",
       "      <td>3</td>\n",
       "      <td>0</td>\n",
       "      <td>112108</td>\n",
       "    </tr>\n",
       "    <tr>\n",
       "      <th>3</th>\n",
       "      <td>1</td>\n",
       "      <td>49683</td>\n",
       "      <td>4</td>\n",
       "      <td>0</td>\n",
       "      <td>112108</td>\n",
       "    </tr>\n",
       "    <tr>\n",
       "      <th>4</th>\n",
       "      <td>1</td>\n",
       "      <td>43633</td>\n",
       "      <td>5</td>\n",
       "      <td>1</td>\n",
       "      <td>112108</td>\n",
       "    </tr>\n",
       "  </tbody>\n",
       "</table>\n",
       "</div>"
      ],
      "text/plain": [
       "   order_id  product_id  add_to_cart_order  reordered  user_id\n",
       "0         1       49302                  1          1   112108\n",
       "1         1       11109                  2          1   112108\n",
       "2         1       10246                  3          0   112108\n",
       "3         1       49683                  4          0   112108\n",
       "4         1       43633                  5          1   112108"
      ]
     },
     "execution_count": 38,
     "metadata": {},
     "output_type": "execute_result"
    }
   ],
   "source": [
    "order_products_train.head()"
   ]
  },
  {
   "cell_type": "markdown",
   "metadata": {},
   "source": [
    "## Getting all the information of prior data we have together."
   ]
  },
  {
   "cell_type": "code",
   "execution_count": 39,
   "metadata": {
    "collapsed": true
   },
   "outputs": [],
   "source": [
    "orders_products = orders.merge(order_products__prior, on = 'order_id', how = 'inner')"
   ]
  },
  {
   "cell_type": "code",
   "execution_count": 40,
   "metadata": {
    "collapsed": true
   },
   "outputs": [],
   "source": [
    "del order_products__prior"
   ]
  },
  {
   "cell_type": "code",
   "execution_count": 41,
   "metadata": {
    "collapsed": true
   },
   "outputs": [],
   "source": [
    "prd = orders_products.sort_values(['user_id', 'order_number', 'product_id'])"
   ]
  },
  {
   "cell_type": "code",
   "execution_count": 42,
   "metadata": {},
   "outputs": [
    {
     "data": {
      "text/html": [
       "<div>\n",
       "<table border=\"1\" class=\"dataframe\">\n",
       "  <thead>\n",
       "    <tr style=\"text-align: right;\">\n",
       "      <th></th>\n",
       "      <th>order_id</th>\n",
       "      <th>user_id</th>\n",
       "      <th>eval_set</th>\n",
       "      <th>order_number</th>\n",
       "      <th>order_dow</th>\n",
       "      <th>order_hour_of_day</th>\n",
       "      <th>days_since_prior_order</th>\n",
       "      <th>product_id</th>\n",
       "      <th>add_to_cart_order</th>\n",
       "      <th>reordered</th>\n",
       "    </tr>\n",
       "  </thead>\n",
       "  <tbody>\n",
       "    <tr>\n",
       "      <th>0</th>\n",
       "      <td>2539329</td>\n",
       "      <td>1</td>\n",
       "      <td>prior</td>\n",
       "      <td>1</td>\n",
       "      <td>2</td>\n",
       "      <td>8</td>\n",
       "      <td>NaN</td>\n",
       "      <td>196</td>\n",
       "      <td>1</td>\n",
       "      <td>0</td>\n",
       "    </tr>\n",
       "    <tr>\n",
       "      <th>2</th>\n",
       "      <td>2539329</td>\n",
       "      <td>1</td>\n",
       "      <td>prior</td>\n",
       "      <td>1</td>\n",
       "      <td>2</td>\n",
       "      <td>8</td>\n",
       "      <td>NaN</td>\n",
       "      <td>12427</td>\n",
       "      <td>3</td>\n",
       "      <td>0</td>\n",
       "    </tr>\n",
       "    <tr>\n",
       "      <th>1</th>\n",
       "      <td>2539329</td>\n",
       "      <td>1</td>\n",
       "      <td>prior</td>\n",
       "      <td>1</td>\n",
       "      <td>2</td>\n",
       "      <td>8</td>\n",
       "      <td>NaN</td>\n",
       "      <td>14084</td>\n",
       "      <td>2</td>\n",
       "      <td>0</td>\n",
       "    </tr>\n",
       "    <tr>\n",
       "      <th>3</th>\n",
       "      <td>2539329</td>\n",
       "      <td>1</td>\n",
       "      <td>prior</td>\n",
       "      <td>1</td>\n",
       "      <td>2</td>\n",
       "      <td>8</td>\n",
       "      <td>NaN</td>\n",
       "      <td>26088</td>\n",
       "      <td>4</td>\n",
       "      <td>0</td>\n",
       "    </tr>\n",
       "    <tr>\n",
       "      <th>4</th>\n",
       "      <td>2539329</td>\n",
       "      <td>1</td>\n",
       "      <td>prior</td>\n",
       "      <td>1</td>\n",
       "      <td>2</td>\n",
       "      <td>8</td>\n",
       "      <td>NaN</td>\n",
       "      <td>26405</td>\n",
       "      <td>5</td>\n",
       "      <td>0</td>\n",
       "    </tr>\n",
       "  </tbody>\n",
       "</table>\n",
       "</div>"
      ],
      "text/plain": [
       "   order_id  user_id eval_set  order_number  order_dow  order_hour_of_day  \\\n",
       "0   2539329        1    prior             1          2                  8   \n",
       "2   2539329        1    prior             1          2                  8   \n",
       "1   2539329        1    prior             1          2                  8   \n",
       "3   2539329        1    prior             1          2                  8   \n",
       "4   2539329        1    prior             1          2                  8   \n",
       "\n",
       "   days_since_prior_order  product_id  add_to_cart_order  reordered  \n",
       "0                     NaN         196                  1          0  \n",
       "2                     NaN       12427                  3          0  \n",
       "1                     NaN       14084                  2          0  \n",
       "3                     NaN       26088                  4          0  \n",
       "4                     NaN       26405                  5          0  "
      ]
     },
     "execution_count": 42,
     "metadata": {},
     "output_type": "execute_result"
    }
   ],
   "source": [
    "prd.head()"
   ]
  },
  {
   "cell_type": "code",
   "execution_count": 43,
   "metadata": {
    "collapsed": true
   },
   "outputs": [],
   "source": [
    "prd['product_time'] = prd.groupby(['user_id','product_id'])['order_number'].cumcount(ascending=True)"
   ]
  },
  {
   "cell_type": "code",
   "execution_count": 44,
   "metadata": {},
   "outputs": [
    {
     "data": {
      "text/html": [
       "<div>\n",
       "<table border=\"1\" class=\"dataframe\">\n",
       "  <thead>\n",
       "    <tr style=\"text-align: right;\">\n",
       "      <th></th>\n",
       "      <th>order_id</th>\n",
       "      <th>user_id</th>\n",
       "      <th>eval_set</th>\n",
       "      <th>order_number</th>\n",
       "      <th>order_dow</th>\n",
       "      <th>order_hour_of_day</th>\n",
       "      <th>days_since_prior_order</th>\n",
       "      <th>product_id</th>\n",
       "      <th>add_to_cart_order</th>\n",
       "      <th>reordered</th>\n",
       "      <th>product_time</th>\n",
       "    </tr>\n",
       "  </thead>\n",
       "  <tbody>\n",
       "    <tr>\n",
       "      <th>0</th>\n",
       "      <td>2539329</td>\n",
       "      <td>1</td>\n",
       "      <td>prior</td>\n",
       "      <td>1</td>\n",
       "      <td>2</td>\n",
       "      <td>8</td>\n",
       "      <td>NaN</td>\n",
       "      <td>196</td>\n",
       "      <td>1</td>\n",
       "      <td>0</td>\n",
       "      <td>0</td>\n",
       "    </tr>\n",
       "    <tr>\n",
       "      <th>2</th>\n",
       "      <td>2539329</td>\n",
       "      <td>1</td>\n",
       "      <td>prior</td>\n",
       "      <td>1</td>\n",
       "      <td>2</td>\n",
       "      <td>8</td>\n",
       "      <td>NaN</td>\n",
       "      <td>12427</td>\n",
       "      <td>3</td>\n",
       "      <td>0</td>\n",
       "      <td>0</td>\n",
       "    </tr>\n",
       "    <tr>\n",
       "      <th>1</th>\n",
       "      <td>2539329</td>\n",
       "      <td>1</td>\n",
       "      <td>prior</td>\n",
       "      <td>1</td>\n",
       "      <td>2</td>\n",
       "      <td>8</td>\n",
       "      <td>NaN</td>\n",
       "      <td>14084</td>\n",
       "      <td>2</td>\n",
       "      <td>0</td>\n",
       "      <td>0</td>\n",
       "    </tr>\n",
       "    <tr>\n",
       "      <th>3</th>\n",
       "      <td>2539329</td>\n",
       "      <td>1</td>\n",
       "      <td>prior</td>\n",
       "      <td>1</td>\n",
       "      <td>2</td>\n",
       "      <td>8</td>\n",
       "      <td>NaN</td>\n",
       "      <td>26088</td>\n",
       "      <td>4</td>\n",
       "      <td>0</td>\n",
       "      <td>0</td>\n",
       "    </tr>\n",
       "    <tr>\n",
       "      <th>4</th>\n",
       "      <td>2539329</td>\n",
       "      <td>1</td>\n",
       "      <td>prior</td>\n",
       "      <td>1</td>\n",
       "      <td>2</td>\n",
       "      <td>8</td>\n",
       "      <td>NaN</td>\n",
       "      <td>26405</td>\n",
       "      <td>5</td>\n",
       "      <td>0</td>\n",
       "      <td>0</td>\n",
       "    </tr>\n",
       "    <tr>\n",
       "      <th>5</th>\n",
       "      <td>2398795</td>\n",
       "      <td>1</td>\n",
       "      <td>prior</td>\n",
       "      <td>2</td>\n",
       "      <td>3</td>\n",
       "      <td>7</td>\n",
       "      <td>15</td>\n",
       "      <td>196</td>\n",
       "      <td>1</td>\n",
       "      <td>1</td>\n",
       "      <td>1</td>\n",
       "    </tr>\n",
       "    <tr>\n",
       "      <th>6</th>\n",
       "      <td>2398795</td>\n",
       "      <td>1</td>\n",
       "      <td>prior</td>\n",
       "      <td>2</td>\n",
       "      <td>3</td>\n",
       "      <td>7</td>\n",
       "      <td>15</td>\n",
       "      <td>10258</td>\n",
       "      <td>2</td>\n",
       "      <td>0</td>\n",
       "      <td>0</td>\n",
       "    </tr>\n",
       "    <tr>\n",
       "      <th>7</th>\n",
       "      <td>2398795</td>\n",
       "      <td>1</td>\n",
       "      <td>prior</td>\n",
       "      <td>2</td>\n",
       "      <td>3</td>\n",
       "      <td>7</td>\n",
       "      <td>15</td>\n",
       "      <td>12427</td>\n",
       "      <td>3</td>\n",
       "      <td>1</td>\n",
       "      <td>1</td>\n",
       "    </tr>\n",
       "    <tr>\n",
       "      <th>10</th>\n",
       "      <td>2398795</td>\n",
       "      <td>1</td>\n",
       "      <td>prior</td>\n",
       "      <td>2</td>\n",
       "      <td>3</td>\n",
       "      <td>7</td>\n",
       "      <td>15</td>\n",
       "      <td>13032</td>\n",
       "      <td>6</td>\n",
       "      <td>0</td>\n",
       "      <td>0</td>\n",
       "    </tr>\n",
       "    <tr>\n",
       "      <th>8</th>\n",
       "      <td>2398795</td>\n",
       "      <td>1</td>\n",
       "      <td>prior</td>\n",
       "      <td>2</td>\n",
       "      <td>3</td>\n",
       "      <td>7</td>\n",
       "      <td>15</td>\n",
       "      <td>13176</td>\n",
       "      <td>4</td>\n",
       "      <td>0</td>\n",
       "      <td>0</td>\n",
       "    </tr>\n",
       "  </tbody>\n",
       "</table>\n",
       "</div>"
      ],
      "text/plain": [
       "    order_id  user_id eval_set  order_number  order_dow  order_hour_of_day  \\\n",
       "0    2539329        1    prior             1          2                  8   \n",
       "2    2539329        1    prior             1          2                  8   \n",
       "1    2539329        1    prior             1          2                  8   \n",
       "3    2539329        1    prior             1          2                  8   \n",
       "4    2539329        1    prior             1          2                  8   \n",
       "5    2398795        1    prior             2          3                  7   \n",
       "6    2398795        1    prior             2          3                  7   \n",
       "7    2398795        1    prior             2          3                  7   \n",
       "10   2398795        1    prior             2          3                  7   \n",
       "8    2398795        1    prior             2          3                  7   \n",
       "\n",
       "    days_since_prior_order  product_id  add_to_cart_order  reordered  \\\n",
       "0                      NaN         196                  1          0   \n",
       "2                      NaN       12427                  3          0   \n",
       "1                      NaN       14084                  2          0   \n",
       "3                      NaN       26088                  4          0   \n",
       "4                      NaN       26405                  5          0   \n",
       "5                       15         196                  1          1   \n",
       "6                       15       10258                  2          0   \n",
       "7                       15       12427                  3          1   \n",
       "10                      15       13032                  6          0   \n",
       "8                       15       13176                  4          0   \n",
       "\n",
       "    product_time  \n",
       "0              0  \n",
       "2              0  \n",
       "1              0  \n",
       "3              0  \n",
       "4              0  \n",
       "5              1  \n",
       "6              0  \n",
       "7              1  \n",
       "10             0  \n",
       "8              0  "
      ]
     },
     "execution_count": 44,
     "metadata": {},
     "output_type": "execute_result"
    }
   ],
   "source": [
    "prd.head(10)"
   ]
  },
  {
   "cell_type": "markdown",
   "metadata": {},
   "source": [
    "## Creating new and useful features from prior data"
   ]
  },
  {
   "cell_type": "code",
   "execution_count": 45,
   "metadata": {
    "collapsed": true
   },
   "outputs": [],
   "source": [
    "def uni(a):\n",
    "    return a.nunique()\n",
    "def zer(a):\n",
    "    return sum(a==0)\n",
    "def one(a):\n",
    "    return sum(a==1)\n",
    "prd = prd.groupby('product_id').agg({'order_id':uni, 'reordered':sum, 'product_time':[zer,one]})\n",
    "prd.columns = [' '.join(col).strip() for col in prd.columns.values]"
   ]
  },
  {
   "cell_type": "code",
   "execution_count": 46,
   "metadata": {
    "collapsed": true
   },
   "outputs": [],
   "source": [
    "prd.rename(columns = {'order_id uni':'prod_orders',\n",
    "                      'product_time zer':'prod_first_orders',\n",
    "                      'product_time one':'prod_second_orders',\n",
    "                      'reordered sum':'prod_reorders'},inplace = True)"
   ]
  },
  {
   "cell_type": "code",
   "execution_count": 47,
   "metadata": {},
   "outputs": [
    {
     "data": {
      "text/html": [
       "<div>\n",
       "<table border=\"1\" class=\"dataframe\">\n",
       "  <thead>\n",
       "    <tr style=\"text-align: right;\">\n",
       "      <th></th>\n",
       "      <th>prod_orders</th>\n",
       "      <th>prod_first_orders</th>\n",
       "      <th>prod_second_orders</th>\n",
       "      <th>prod_reorders</th>\n",
       "    </tr>\n",
       "    <tr>\n",
       "      <th>product_id</th>\n",
       "      <th></th>\n",
       "      <th></th>\n",
       "      <th></th>\n",
       "      <th></th>\n",
       "    </tr>\n",
       "  </thead>\n",
       "  <tbody>\n",
       "    <tr>\n",
       "      <th>1</th>\n",
       "      <td>1852</td>\n",
       "      <td>716</td>\n",
       "      <td>276</td>\n",
       "      <td>1136</td>\n",
       "    </tr>\n",
       "    <tr>\n",
       "      <th>2</th>\n",
       "      <td>90</td>\n",
       "      <td>78</td>\n",
       "      <td>8</td>\n",
       "      <td>12</td>\n",
       "    </tr>\n",
       "    <tr>\n",
       "      <th>3</th>\n",
       "      <td>277</td>\n",
       "      <td>74</td>\n",
       "      <td>36</td>\n",
       "      <td>203</td>\n",
       "    </tr>\n",
       "    <tr>\n",
       "      <th>4</th>\n",
       "      <td>329</td>\n",
       "      <td>182</td>\n",
       "      <td>64</td>\n",
       "      <td>147</td>\n",
       "    </tr>\n",
       "    <tr>\n",
       "      <th>5</th>\n",
       "      <td>15</td>\n",
       "      <td>6</td>\n",
       "      <td>4</td>\n",
       "      <td>9</td>\n",
       "    </tr>\n",
       "  </tbody>\n",
       "</table>\n",
       "</div>"
      ],
      "text/plain": [
       "            prod_orders  prod_first_orders  prod_second_orders  prod_reorders\n",
       "product_id                                                                   \n",
       "1                  1852                716                 276           1136\n",
       "2                    90                 78                   8             12\n",
       "3                   277                 74                  36            203\n",
       "4                   329                182                  64            147\n",
       "5                    15                  6                   4              9"
      ]
     },
     "execution_count": 47,
     "metadata": {},
     "output_type": "execute_result"
    }
   ],
   "source": [
    "prd.head()"
   ]
  },
  {
   "cell_type": "code",
   "execution_count": 48,
   "metadata": {
    "collapsed": true
   },
   "outputs": [],
   "source": [
    "prd['prod_reorder_probability'] = prd.prod_second_orders / prd.prod_first_orders\n",
    "prd['prod_reorder_times'] = 1 + prd.prod_reorders / prd.prod_first_orders\n",
    "prd['prod_reorder_ratio'] = prd.prod_reorders / prd.prod_orders"
   ]
  },
  {
   "cell_type": "code",
   "execution_count": 49,
   "metadata": {
    "collapsed": true
   },
   "outputs": [],
   "source": [
    "prd.drop(prd[['prod_reorders','prod_first_orders','prod_second_orders']], axis=1, inplace=True)"
   ]
  },
  {
   "cell_type": "code",
   "execution_count": 50,
   "metadata": {
    "collapsed": true
   },
   "outputs": [],
   "source": [
    "prd = prd.reset_index()"
   ]
  },
  {
   "cell_type": "code",
   "execution_count": 51,
   "metadata": {},
   "outputs": [
    {
     "data": {
      "text/html": [
       "<div>\n",
       "<table border=\"1\" class=\"dataframe\">\n",
       "  <thead>\n",
       "    <tr style=\"text-align: right;\">\n",
       "      <th></th>\n",
       "      <th>product_id</th>\n",
       "      <th>prod_orders</th>\n",
       "      <th>prod_reorder_probability</th>\n",
       "      <th>prod_reorder_times</th>\n",
       "      <th>prod_reorder_ratio</th>\n",
       "    </tr>\n",
       "  </thead>\n",
       "  <tbody>\n",
       "    <tr>\n",
       "      <th>0</th>\n",
       "      <td>1</td>\n",
       "      <td>1852</td>\n",
       "      <td>0.385475</td>\n",
       "      <td>2.586592</td>\n",
       "      <td>0.613391</td>\n",
       "    </tr>\n",
       "    <tr>\n",
       "      <th>1</th>\n",
       "      <td>2</td>\n",
       "      <td>90</td>\n",
       "      <td>0.102564</td>\n",
       "      <td>1.153846</td>\n",
       "      <td>0.133333</td>\n",
       "    </tr>\n",
       "    <tr>\n",
       "      <th>2</th>\n",
       "      <td>3</td>\n",
       "      <td>277</td>\n",
       "      <td>0.486486</td>\n",
       "      <td>3.743243</td>\n",
       "      <td>0.732852</td>\n",
       "    </tr>\n",
       "    <tr>\n",
       "      <th>3</th>\n",
       "      <td>4</td>\n",
       "      <td>329</td>\n",
       "      <td>0.351648</td>\n",
       "      <td>1.807692</td>\n",
       "      <td>0.446809</td>\n",
       "    </tr>\n",
       "    <tr>\n",
       "      <th>4</th>\n",
       "      <td>5</td>\n",
       "      <td>15</td>\n",
       "      <td>0.666667</td>\n",
       "      <td>2.500000</td>\n",
       "      <td>0.600000</td>\n",
       "    </tr>\n",
       "  </tbody>\n",
       "</table>\n",
       "</div>"
      ],
      "text/plain": [
       "   product_id  prod_orders  prod_reorder_probability  prod_reorder_times  \\\n",
       "0           1         1852                  0.385475            2.586592   \n",
       "1           2           90                  0.102564            1.153846   \n",
       "2           3          277                  0.486486            3.743243   \n",
       "3           4          329                  0.351648            1.807692   \n",
       "4           5           15                  0.666667            2.500000   \n",
       "\n",
       "   prod_reorder_ratio  \n",
       "0            0.613391  \n",
       "1            0.133333  \n",
       "2            0.732852  \n",
       "3            0.446809  \n",
       "4            0.600000  "
      ]
     },
     "execution_count": 51,
     "metadata": {},
     "output_type": "execute_result"
    }
   ],
   "source": [
    "prd.head()"
   ]
  },
  {
   "cell_type": "markdown",
   "metadata": {},
   "source": [
    "# Creating Users Data"
   ]
  },
  {
   "cell_type": "code",
   "execution_count": 52,
   "metadata": {
    "collapsed": true
   },
   "outputs": [],
   "source": [
    "users = orders[orders['eval_set'] == 'prior']"
   ]
  },
  {
   "cell_type": "code",
   "execution_count": 53,
   "metadata": {
    "collapsed": true
   },
   "outputs": [],
   "source": [
    "def mean(a):\n",
    "    return a.mean()\n",
    "\n",
    "users = users.groupby(['user_id']).agg({'order_number':max,'days_since_prior_order':[sum,mean]}).reset_index()\n",
    "\n",
    "users.columns = [' '.join(col).strip() for col in users.columns.values]\n",
    "users.rename(columns = {'order_number max':'user_orders',\n",
    "                        'days_since_prior_order sum':'user_period',\n",
    "                        'days_since_prior_order mean':'user_mean_days_since_prior'},inplace = True)"
   ]
  },
  {
   "cell_type": "code",
   "execution_count": 54,
   "metadata": {},
   "outputs": [
    {
     "data": {
      "text/html": [
       "<div>\n",
       "<table border=\"1\" class=\"dataframe\">\n",
       "  <thead>\n",
       "    <tr style=\"text-align: right;\">\n",
       "      <th></th>\n",
       "      <th>user_id</th>\n",
       "      <th>user_period</th>\n",
       "      <th>user_mean_days_since_prior</th>\n",
       "      <th>user_orders</th>\n",
       "    </tr>\n",
       "  </thead>\n",
       "  <tbody>\n",
       "    <tr>\n",
       "      <th>0</th>\n",
       "      <td>1</td>\n",
       "      <td>176</td>\n",
       "      <td>19.555556</td>\n",
       "      <td>10</td>\n",
       "    </tr>\n",
       "    <tr>\n",
       "      <th>1</th>\n",
       "      <td>2</td>\n",
       "      <td>198</td>\n",
       "      <td>15.230769</td>\n",
       "      <td>14</td>\n",
       "    </tr>\n",
       "    <tr>\n",
       "      <th>2</th>\n",
       "      <td>3</td>\n",
       "      <td>133</td>\n",
       "      <td>12.090909</td>\n",
       "      <td>12</td>\n",
       "    </tr>\n",
       "    <tr>\n",
       "      <th>3</th>\n",
       "      <td>4</td>\n",
       "      <td>55</td>\n",
       "      <td>13.750000</td>\n",
       "      <td>5</td>\n",
       "    </tr>\n",
       "    <tr>\n",
       "      <th>4</th>\n",
       "      <td>5</td>\n",
       "      <td>40</td>\n",
       "      <td>13.333333</td>\n",
       "      <td>4</td>\n",
       "    </tr>\n",
       "  </tbody>\n",
       "</table>\n",
       "</div>"
      ],
      "text/plain": [
       "   user_id  user_period  user_mean_days_since_prior  user_orders\n",
       "0        1          176                   19.555556           10\n",
       "1        2          198                   15.230769           14\n",
       "2        3          133                   12.090909           12\n",
       "3        4           55                   13.750000            5\n",
       "4        5           40                   13.333333            4"
      ]
     },
     "execution_count": 54,
     "metadata": {},
     "output_type": "execute_result"
    }
   ],
   "source": [
    "users.head()"
   ]
  },
  {
   "cell_type": "code",
   "execution_count": 55,
   "metadata": {
    "collapsed": true
   },
   "outputs": [],
   "source": [
    "def count(a):\n",
    "    return a.count()\n",
    "def unique(a):\n",
    "    return a.nunique()\n",
    "def equal(a):\n",
    "    return sum(a == 1)\n",
    "def grater(a):\n",
    "    return sum(a > 1)\n",
    "\n",
    "us = orders_products.groupby(['user_id']).agg({'order_id':count,'reordered':equal,'order_number':grater,'product_id':unique}).reset_index()\n",
    "\n",
    "us['user_reorder_ratio'] = us.reordered/us.order_number\n",
    "us.drop(us[['reordered','order_number']], axis = 1, inplace = True)\n",
    "us.rename(columns = {'order_id':'user_total_products','product_id':'user_distinct_products'}, inplace = True)"
   ]
  },
  {
   "cell_type": "code",
   "execution_count": 56,
   "metadata": {},
   "outputs": [
    {
     "data": {
      "text/html": [
       "<div>\n",
       "<table border=\"1\" class=\"dataframe\">\n",
       "  <thead>\n",
       "    <tr style=\"text-align: right;\">\n",
       "      <th></th>\n",
       "      <th>user_id</th>\n",
       "      <th>user_total_products</th>\n",
       "      <th>user_distinct_products</th>\n",
       "      <th>user_reorder_ratio</th>\n",
       "    </tr>\n",
       "  </thead>\n",
       "  <tbody>\n",
       "    <tr>\n",
       "      <th>0</th>\n",
       "      <td>1</td>\n",
       "      <td>59</td>\n",
       "      <td>18</td>\n",
       "      <td>0.759259</td>\n",
       "    </tr>\n",
       "    <tr>\n",
       "      <th>1</th>\n",
       "      <td>2</td>\n",
       "      <td>195</td>\n",
       "      <td>102</td>\n",
       "      <td>0.510989</td>\n",
       "    </tr>\n",
       "    <tr>\n",
       "      <th>2</th>\n",
       "      <td>3</td>\n",
       "      <td>88</td>\n",
       "      <td>33</td>\n",
       "      <td>0.705128</td>\n",
       "    </tr>\n",
       "    <tr>\n",
       "      <th>3</th>\n",
       "      <td>4</td>\n",
       "      <td>18</td>\n",
       "      <td>17</td>\n",
       "      <td>0.071429</td>\n",
       "    </tr>\n",
       "    <tr>\n",
       "      <th>4</th>\n",
       "      <td>5</td>\n",
       "      <td>37</td>\n",
       "      <td>23</td>\n",
       "      <td>0.538462</td>\n",
       "    </tr>\n",
       "  </tbody>\n",
       "</table>\n",
       "</div>"
      ],
      "text/plain": [
       "   user_id  user_total_products  user_distinct_products  user_reorder_ratio\n",
       "0        1                   59                      18            0.759259\n",
       "1        2                  195                     102            0.510989\n",
       "2        3                   88                      33            0.705128\n",
       "3        4                   18                      17            0.071429\n",
       "4        5                   37                      23            0.538462"
      ]
     },
     "execution_count": 56,
     "metadata": {},
     "output_type": "execute_result"
    }
   ],
   "source": [
    "us.head()"
   ]
  },
  {
   "cell_type": "code",
   "execution_count": 57,
   "metadata": {
    "collapsed": true
   },
   "outputs": [],
   "source": [
    "users = users.merge(us, on = 'user_id', how = 'inner')\n",
    "users['user_average_basket'] = users.user_total_products / users.user_orders"
   ]
  },
  {
   "cell_type": "code",
   "execution_count": 58,
   "metadata": {},
   "outputs": [
    {
     "data": {
      "text/html": [
       "<div>\n",
       "<table border=\"1\" class=\"dataframe\">\n",
       "  <thead>\n",
       "    <tr style=\"text-align: right;\">\n",
       "      <th></th>\n",
       "      <th>user_id</th>\n",
       "      <th>user_period</th>\n",
       "      <th>user_mean_days_since_prior</th>\n",
       "      <th>user_orders</th>\n",
       "      <th>user_total_products</th>\n",
       "      <th>user_distinct_products</th>\n",
       "      <th>user_reorder_ratio</th>\n",
       "      <th>user_average_basket</th>\n",
       "    </tr>\n",
       "  </thead>\n",
       "  <tbody>\n",
       "    <tr>\n",
       "      <th>0</th>\n",
       "      <td>1</td>\n",
       "      <td>176</td>\n",
       "      <td>19.555556</td>\n",
       "      <td>10</td>\n",
       "      <td>59</td>\n",
       "      <td>18</td>\n",
       "      <td>0.759259</td>\n",
       "      <td>5.900000</td>\n",
       "    </tr>\n",
       "    <tr>\n",
       "      <th>1</th>\n",
       "      <td>2</td>\n",
       "      <td>198</td>\n",
       "      <td>15.230769</td>\n",
       "      <td>14</td>\n",
       "      <td>195</td>\n",
       "      <td>102</td>\n",
       "      <td>0.510989</td>\n",
       "      <td>13.928571</td>\n",
       "    </tr>\n",
       "    <tr>\n",
       "      <th>2</th>\n",
       "      <td>3</td>\n",
       "      <td>133</td>\n",
       "      <td>12.090909</td>\n",
       "      <td>12</td>\n",
       "      <td>88</td>\n",
       "      <td>33</td>\n",
       "      <td>0.705128</td>\n",
       "      <td>7.333333</td>\n",
       "    </tr>\n",
       "    <tr>\n",
       "      <th>3</th>\n",
       "      <td>4</td>\n",
       "      <td>55</td>\n",
       "      <td>13.750000</td>\n",
       "      <td>5</td>\n",
       "      <td>18</td>\n",
       "      <td>17</td>\n",
       "      <td>0.071429</td>\n",
       "      <td>3.600000</td>\n",
       "    </tr>\n",
       "    <tr>\n",
       "      <th>4</th>\n",
       "      <td>5</td>\n",
       "      <td>40</td>\n",
       "      <td>13.333333</td>\n",
       "      <td>4</td>\n",
       "      <td>37</td>\n",
       "      <td>23</td>\n",
       "      <td>0.538462</td>\n",
       "      <td>9.250000</td>\n",
       "    </tr>\n",
       "  </tbody>\n",
       "</table>\n",
       "</div>"
      ],
      "text/plain": [
       "   user_id  user_period  user_mean_days_since_prior  user_orders  \\\n",
       "0        1          176                   19.555556           10   \n",
       "1        2          198                   15.230769           14   \n",
       "2        3          133                   12.090909           12   \n",
       "3        4           55                   13.750000            5   \n",
       "4        5           40                   13.333333            4   \n",
       "\n",
       "   user_total_products  user_distinct_products  user_reorder_ratio  \\\n",
       "0                   59                      18            0.759259   \n",
       "1                  195                     102            0.510989   \n",
       "2                   88                      33            0.705128   \n",
       "3                   18                      17            0.071429   \n",
       "4                   37                      23            0.538462   \n",
       "\n",
       "   user_average_basket  \n",
       "0             5.900000  \n",
       "1            13.928571  \n",
       "2             7.333333  \n",
       "3             3.600000  \n",
       "4             9.250000  "
      ]
     },
     "execution_count": 58,
     "metadata": {},
     "output_type": "execute_result"
    }
   ],
   "source": [
    "users.head()"
   ]
  },
  {
   "cell_type": "code",
   "execution_count": 59,
   "metadata": {
    "collapsed": true
   },
   "outputs": [],
   "source": [
    "us = orders[orders['eval_set'] != 'prior']\n",
    "us = us[['user_id', 'order_id', 'eval_set', 'days_since_prior_order']]\n",
    "us.rename({'days_since_prior_order':'time_since_last_order'}, inplace = True)"
   ]
  },
  {
   "cell_type": "code",
   "execution_count": 60,
   "metadata": {
    "collapsed": true
   },
   "outputs": [],
   "source": [
    "users = users.merge(us, on = 'user_id', how = 'inner')"
   ]
  },
  {
   "cell_type": "code",
   "execution_count": 61,
   "metadata": {
    "collapsed": true
   },
   "outputs": [],
   "source": [
    "del us"
   ]
  },
  {
   "cell_type": "markdown",
   "metadata": {},
   "source": [
    "# Creating Database with all information we have"
   ]
  },
  {
   "cell_type": "code",
   "execution_count": 62,
   "metadata": {
    "collapsed": true
   },
   "outputs": [],
   "source": [
    "def count(a):\n",
    "    return a.count()\n",
    "def first(a):\n",
    "    return a.min()\n",
    "def last(a):\n",
    "    return a.max()\n",
    "data = orders_products.groupby(['user_id','product_id']).agg({'order_id':count,\n",
    "                                                              'order_number':[first,last],\n",
    "                                                              'add_to_cart_order':mean}).reset_index()\n",
    "data.columns = [' '.join(col).strip() for col in data.columns.values]"
   ]
  },
  {
   "cell_type": "code",
   "execution_count": 63,
   "metadata": {},
   "outputs": [
    {
     "data": {
      "text/html": [
       "<div>\n",
       "<table border=\"1\" class=\"dataframe\">\n",
       "  <thead>\n",
       "    <tr style=\"text-align: right;\">\n",
       "      <th></th>\n",
       "      <th>user_id</th>\n",
       "      <th>product_id</th>\n",
       "      <th>order_id count</th>\n",
       "      <th>add_to_cart_order mean</th>\n",
       "      <th>order_number first</th>\n",
       "      <th>order_number last</th>\n",
       "    </tr>\n",
       "  </thead>\n",
       "  <tbody>\n",
       "    <tr>\n",
       "      <th>0</th>\n",
       "      <td>1</td>\n",
       "      <td>196</td>\n",
       "      <td>10</td>\n",
       "      <td>1.400000</td>\n",
       "      <td>1</td>\n",
       "      <td>10</td>\n",
       "    </tr>\n",
       "    <tr>\n",
       "      <th>1</th>\n",
       "      <td>1</td>\n",
       "      <td>10258</td>\n",
       "      <td>9</td>\n",
       "      <td>3.333333</td>\n",
       "      <td>2</td>\n",
       "      <td>10</td>\n",
       "    </tr>\n",
       "    <tr>\n",
       "      <th>2</th>\n",
       "      <td>1</td>\n",
       "      <td>10326</td>\n",
       "      <td>1</td>\n",
       "      <td>5.000000</td>\n",
       "      <td>5</td>\n",
       "      <td>5</td>\n",
       "    </tr>\n",
       "    <tr>\n",
       "      <th>3</th>\n",
       "      <td>1</td>\n",
       "      <td>12427</td>\n",
       "      <td>10</td>\n",
       "      <td>3.300000</td>\n",
       "      <td>1</td>\n",
       "      <td>10</td>\n",
       "    </tr>\n",
       "    <tr>\n",
       "      <th>4</th>\n",
       "      <td>1</td>\n",
       "      <td>13032</td>\n",
       "      <td>3</td>\n",
       "      <td>6.333333</td>\n",
       "      <td>2</td>\n",
       "      <td>10</td>\n",
       "    </tr>\n",
       "  </tbody>\n",
       "</table>\n",
       "</div>"
      ],
      "text/plain": [
       "   user_id  product_id  order_id count  add_to_cart_order mean  \\\n",
       "0        1         196              10                1.400000   \n",
       "1        1       10258               9                3.333333   \n",
       "2        1       10326               1                5.000000   \n",
       "3        1       12427              10                3.300000   \n",
       "4        1       13032               3                6.333333   \n",
       "\n",
       "   order_number first  order_number last  \n",
       "0                   1                 10  \n",
       "1                   2                 10  \n",
       "2                   5                  5  \n",
       "3                   1                 10  \n",
       "4                   2                 10  "
      ]
     },
     "execution_count": 63,
     "metadata": {},
     "output_type": "execute_result"
    }
   ],
   "source": [
    "data.head()"
   ]
  },
  {
   "cell_type": "code",
   "execution_count": 64,
   "metadata": {
    "collapsed": true
   },
   "outputs": [],
   "source": [
    "data.rename(columns = {'order_id count':'up_orders',\n",
    "                       'add_to_cart_order mean':'up_average_cart_position',\n",
    "                       'order_number first':'up_first_order',\n",
    "                       'order_number last':'up_last_order'}, inplace = True)"
   ]
  },
  {
   "cell_type": "code",
   "execution_count": 65,
   "metadata": {},
   "outputs": [
    {
     "data": {
      "text/html": [
       "<div>\n",
       "<table border=\"1\" class=\"dataframe\">\n",
       "  <thead>\n",
       "    <tr style=\"text-align: right;\">\n",
       "      <th></th>\n",
       "      <th>user_id</th>\n",
       "      <th>product_id</th>\n",
       "      <th>up_orders</th>\n",
       "      <th>up_average_cart_position</th>\n",
       "      <th>up_first_order</th>\n",
       "      <th>up_last_order</th>\n",
       "    </tr>\n",
       "  </thead>\n",
       "  <tbody>\n",
       "    <tr>\n",
       "      <th>0</th>\n",
       "      <td>1</td>\n",
       "      <td>196</td>\n",
       "      <td>10</td>\n",
       "      <td>1.400000</td>\n",
       "      <td>1</td>\n",
       "      <td>10</td>\n",
       "    </tr>\n",
       "    <tr>\n",
       "      <th>1</th>\n",
       "      <td>1</td>\n",
       "      <td>10258</td>\n",
       "      <td>9</td>\n",
       "      <td>3.333333</td>\n",
       "      <td>2</td>\n",
       "      <td>10</td>\n",
       "    </tr>\n",
       "    <tr>\n",
       "      <th>2</th>\n",
       "      <td>1</td>\n",
       "      <td>10326</td>\n",
       "      <td>1</td>\n",
       "      <td>5.000000</td>\n",
       "      <td>5</td>\n",
       "      <td>5</td>\n",
       "    </tr>\n",
       "    <tr>\n",
       "      <th>3</th>\n",
       "      <td>1</td>\n",
       "      <td>12427</td>\n",
       "      <td>10</td>\n",
       "      <td>3.300000</td>\n",
       "      <td>1</td>\n",
       "      <td>10</td>\n",
       "    </tr>\n",
       "    <tr>\n",
       "      <th>4</th>\n",
       "      <td>1</td>\n",
       "      <td>13032</td>\n",
       "      <td>3</td>\n",
       "      <td>6.333333</td>\n",
       "      <td>2</td>\n",
       "      <td>10</td>\n",
       "    </tr>\n",
       "  </tbody>\n",
       "</table>\n",
       "</div>"
      ],
      "text/plain": [
       "   user_id  product_id  up_orders  up_average_cart_position  up_first_order  \\\n",
       "0        1         196         10                  1.400000               1   \n",
       "1        1       10258          9                  3.333333               2   \n",
       "2        1       10326          1                  5.000000               5   \n",
       "3        1       12427         10                  3.300000               1   \n",
       "4        1       13032          3                  6.333333               2   \n",
       "\n",
       "   up_last_order  \n",
       "0             10  \n",
       "1             10  \n",
       "2              5  \n",
       "3             10  \n",
       "4             10  "
      ]
     },
     "execution_count": 65,
     "metadata": {},
     "output_type": "execute_result"
    }
   ],
   "source": [
    "data.head()"
   ]
  },
  {
   "cell_type": "code",
   "execution_count": 66,
   "metadata": {
    "collapsed": true
   },
   "outputs": [],
   "source": [
    "data = data.merge(prd, on = 'product_id', how = 'inner')\n",
    "data = data.merge(users, on = 'user_id', how = 'inner')"
   ]
  },
  {
   "cell_type": "code",
   "execution_count": 67,
   "metadata": {
    "scrolled": true
   },
   "outputs": [
    {
     "data": {
      "text/html": [
       "<div>\n",
       "<table border=\"1\" class=\"dataframe\">\n",
       "  <thead>\n",
       "    <tr style=\"text-align: right;\">\n",
       "      <th></th>\n",
       "      <th>user_id</th>\n",
       "      <th>product_id</th>\n",
       "      <th>up_orders</th>\n",
       "      <th>up_average_cart_position</th>\n",
       "      <th>up_first_order</th>\n",
       "      <th>up_last_order</th>\n",
       "      <th>prod_orders</th>\n",
       "      <th>prod_reorder_probability</th>\n",
       "      <th>prod_reorder_times</th>\n",
       "      <th>prod_reorder_ratio</th>\n",
       "      <th>user_period</th>\n",
       "      <th>user_mean_days_since_prior</th>\n",
       "      <th>user_orders</th>\n",
       "      <th>user_total_products</th>\n",
       "      <th>user_distinct_products</th>\n",
       "      <th>user_reorder_ratio</th>\n",
       "      <th>user_average_basket</th>\n",
       "      <th>order_id</th>\n",
       "      <th>eval_set</th>\n",
       "      <th>days_since_prior_order</th>\n",
       "    </tr>\n",
       "  </thead>\n",
       "  <tbody>\n",
       "    <tr>\n",
       "      <th>0</th>\n",
       "      <td>1</td>\n",
       "      <td>196</td>\n",
       "      <td>10</td>\n",
       "      <td>1.400000</td>\n",
       "      <td>1</td>\n",
       "      <td>10</td>\n",
       "      <td>35791</td>\n",
       "      <td>0.582500</td>\n",
       "      <td>4.473875</td>\n",
       "      <td>0.776480</td>\n",
       "      <td>176</td>\n",
       "      <td>19.555556</td>\n",
       "      <td>10</td>\n",
       "      <td>59</td>\n",
       "      <td>18</td>\n",
       "      <td>0.759259</td>\n",
       "      <td>5.9</td>\n",
       "      <td>1187899</td>\n",
       "      <td>train</td>\n",
       "      <td>14</td>\n",
       "    </tr>\n",
       "    <tr>\n",
       "      <th>1</th>\n",
       "      <td>1</td>\n",
       "      <td>10258</td>\n",
       "      <td>9</td>\n",
       "      <td>3.333333</td>\n",
       "      <td>2</td>\n",
       "      <td>10</td>\n",
       "      <td>1946</td>\n",
       "      <td>0.552962</td>\n",
       "      <td>3.493716</td>\n",
       "      <td>0.713772</td>\n",
       "      <td>176</td>\n",
       "      <td>19.555556</td>\n",
       "      <td>10</td>\n",
       "      <td>59</td>\n",
       "      <td>18</td>\n",
       "      <td>0.759259</td>\n",
       "      <td>5.9</td>\n",
       "      <td>1187899</td>\n",
       "      <td>train</td>\n",
       "      <td>14</td>\n",
       "    </tr>\n",
       "    <tr>\n",
       "      <th>2</th>\n",
       "      <td>1</td>\n",
       "      <td>10326</td>\n",
       "      <td>1</td>\n",
       "      <td>5.000000</td>\n",
       "      <td>5</td>\n",
       "      <td>5</td>\n",
       "      <td>5526</td>\n",
       "      <td>0.521581</td>\n",
       "      <td>2.873635</td>\n",
       "      <td>0.652009</td>\n",
       "      <td>176</td>\n",
       "      <td>19.555556</td>\n",
       "      <td>10</td>\n",
       "      <td>59</td>\n",
       "      <td>18</td>\n",
       "      <td>0.759259</td>\n",
       "      <td>5.9</td>\n",
       "      <td>1187899</td>\n",
       "      <td>train</td>\n",
       "      <td>14</td>\n",
       "    </tr>\n",
       "    <tr>\n",
       "      <th>3</th>\n",
       "      <td>1</td>\n",
       "      <td>12427</td>\n",
       "      <td>10</td>\n",
       "      <td>3.300000</td>\n",
       "      <td>1</td>\n",
       "      <td>10</td>\n",
       "      <td>6476</td>\n",
       "      <td>0.529482</td>\n",
       "      <td>3.857058</td>\n",
       "      <td>0.740735</td>\n",
       "      <td>176</td>\n",
       "      <td>19.555556</td>\n",
       "      <td>10</td>\n",
       "      <td>59</td>\n",
       "      <td>18</td>\n",
       "      <td>0.759259</td>\n",
       "      <td>5.9</td>\n",
       "      <td>1187899</td>\n",
       "      <td>train</td>\n",
       "      <td>14</td>\n",
       "    </tr>\n",
       "    <tr>\n",
       "      <th>4</th>\n",
       "      <td>1</td>\n",
       "      <td>13032</td>\n",
       "      <td>3</td>\n",
       "      <td>6.333333</td>\n",
       "      <td>2</td>\n",
       "      <td>10</td>\n",
       "      <td>3751</td>\n",
       "      <td>0.479782</td>\n",
       "      <td>2.916796</td>\n",
       "      <td>0.657158</td>\n",
       "      <td>176</td>\n",
       "      <td>19.555556</td>\n",
       "      <td>10</td>\n",
       "      <td>59</td>\n",
       "      <td>18</td>\n",
       "      <td>0.759259</td>\n",
       "      <td>5.9</td>\n",
       "      <td>1187899</td>\n",
       "      <td>train</td>\n",
       "      <td>14</td>\n",
       "    </tr>\n",
       "  </tbody>\n",
       "</table>\n",
       "</div>"
      ],
      "text/plain": [
       "   user_id  product_id  up_orders  up_average_cart_position  up_first_order  \\\n",
       "0        1         196         10                  1.400000               1   \n",
       "1        1       10258          9                  3.333333               2   \n",
       "2        1       10326          1                  5.000000               5   \n",
       "3        1       12427         10                  3.300000               1   \n",
       "4        1       13032          3                  6.333333               2   \n",
       "\n",
       "   up_last_order  prod_orders  prod_reorder_probability  prod_reorder_times  \\\n",
       "0             10        35791                  0.582500            4.473875   \n",
       "1             10         1946                  0.552962            3.493716   \n",
       "2              5         5526                  0.521581            2.873635   \n",
       "3             10         6476                  0.529482            3.857058   \n",
       "4             10         3751                  0.479782            2.916796   \n",
       "\n",
       "   prod_reorder_ratio  user_period  user_mean_days_since_prior  user_orders  \\\n",
       "0            0.776480          176                   19.555556           10   \n",
       "1            0.713772          176                   19.555556           10   \n",
       "2            0.652009          176                   19.555556           10   \n",
       "3            0.740735          176                   19.555556           10   \n",
       "4            0.657158          176                   19.555556           10   \n",
       "\n",
       "   user_total_products  user_distinct_products  user_reorder_ratio  \\\n",
       "0                   59                      18            0.759259   \n",
       "1                   59                      18            0.759259   \n",
       "2                   59                      18            0.759259   \n",
       "3                   59                      18            0.759259   \n",
       "4                   59                      18            0.759259   \n",
       "\n",
       "   user_average_basket  order_id eval_set  days_since_prior_order  \n",
       "0                  5.9   1187899    train                      14  \n",
       "1                  5.9   1187899    train                      14  \n",
       "2                  5.9   1187899    train                      14  \n",
       "3                  5.9   1187899    train                      14  \n",
       "4                  5.9   1187899    train                      14  "
      ]
     },
     "execution_count": 67,
     "metadata": {},
     "output_type": "execute_result"
    }
   ],
   "source": [
    "data.head()"
   ]
  },
  {
   "cell_type": "code",
   "execution_count": 68,
   "metadata": {
    "collapsed": true
   },
   "outputs": [],
   "source": [
    "data['up_order_rate'] = data.up_orders / data.user_orders\n",
    "data['up_orders_since_last_order'] = data.user_orders - data.up_last_order\n",
    "#data['up_order_rate_since_first_order'] = data.up_orders / (data.user_orders - data.up_first_order + 1)"
   ]
  },
  {
   "cell_type": "code",
   "execution_count": 69,
   "metadata": {
    "collapsed": true
   },
   "outputs": [],
   "source": [
    "data = data.merge(order_products_train[['user_id','product_id','reordered']], on = ['user_id','product_id'], how = 'left')"
   ]
  },
  {
   "cell_type": "code",
   "execution_count": 70,
   "metadata": {},
   "outputs": [
    {
     "data": {
      "text/html": [
       "<div>\n",
       "<table border=\"1\" class=\"dataframe\">\n",
       "  <thead>\n",
       "    <tr style=\"text-align: right;\">\n",
       "      <th></th>\n",
       "      <th>user_id</th>\n",
       "      <th>product_id</th>\n",
       "      <th>up_orders</th>\n",
       "      <th>up_average_cart_position</th>\n",
       "      <th>up_first_order</th>\n",
       "      <th>up_last_order</th>\n",
       "      <th>prod_orders</th>\n",
       "      <th>prod_reorder_probability</th>\n",
       "      <th>prod_reorder_times</th>\n",
       "      <th>prod_reorder_ratio</th>\n",
       "      <th>...</th>\n",
       "      <th>user_total_products</th>\n",
       "      <th>user_distinct_products</th>\n",
       "      <th>user_reorder_ratio</th>\n",
       "      <th>user_average_basket</th>\n",
       "      <th>order_id</th>\n",
       "      <th>eval_set</th>\n",
       "      <th>days_since_prior_order</th>\n",
       "      <th>up_order_rate</th>\n",
       "      <th>up_orders_since_last_order</th>\n",
       "      <th>reordered</th>\n",
       "    </tr>\n",
       "  </thead>\n",
       "  <tbody>\n",
       "    <tr>\n",
       "      <th>0</th>\n",
       "      <td>1</td>\n",
       "      <td>196</td>\n",
       "      <td>10</td>\n",
       "      <td>1.400000</td>\n",
       "      <td>1</td>\n",
       "      <td>10</td>\n",
       "      <td>35791</td>\n",
       "      <td>0.582500</td>\n",
       "      <td>4.473875</td>\n",
       "      <td>0.776480</td>\n",
       "      <td>...</td>\n",
       "      <td>59</td>\n",
       "      <td>18</td>\n",
       "      <td>0.759259</td>\n",
       "      <td>5.9</td>\n",
       "      <td>1187899</td>\n",
       "      <td>train</td>\n",
       "      <td>14</td>\n",
       "      <td>1.0</td>\n",
       "      <td>0</td>\n",
       "      <td>1</td>\n",
       "    </tr>\n",
       "    <tr>\n",
       "      <th>1</th>\n",
       "      <td>1</td>\n",
       "      <td>10258</td>\n",
       "      <td>9</td>\n",
       "      <td>3.333333</td>\n",
       "      <td>2</td>\n",
       "      <td>10</td>\n",
       "      <td>1946</td>\n",
       "      <td>0.552962</td>\n",
       "      <td>3.493716</td>\n",
       "      <td>0.713772</td>\n",
       "      <td>...</td>\n",
       "      <td>59</td>\n",
       "      <td>18</td>\n",
       "      <td>0.759259</td>\n",
       "      <td>5.9</td>\n",
       "      <td>1187899</td>\n",
       "      <td>train</td>\n",
       "      <td>14</td>\n",
       "      <td>0.9</td>\n",
       "      <td>0</td>\n",
       "      <td>1</td>\n",
       "    </tr>\n",
       "    <tr>\n",
       "      <th>2</th>\n",
       "      <td>1</td>\n",
       "      <td>10326</td>\n",
       "      <td>1</td>\n",
       "      <td>5.000000</td>\n",
       "      <td>5</td>\n",
       "      <td>5</td>\n",
       "      <td>5526</td>\n",
       "      <td>0.521581</td>\n",
       "      <td>2.873635</td>\n",
       "      <td>0.652009</td>\n",
       "      <td>...</td>\n",
       "      <td>59</td>\n",
       "      <td>18</td>\n",
       "      <td>0.759259</td>\n",
       "      <td>5.9</td>\n",
       "      <td>1187899</td>\n",
       "      <td>train</td>\n",
       "      <td>14</td>\n",
       "      <td>0.1</td>\n",
       "      <td>5</td>\n",
       "      <td>NaN</td>\n",
       "    </tr>\n",
       "    <tr>\n",
       "      <th>3</th>\n",
       "      <td>1</td>\n",
       "      <td>12427</td>\n",
       "      <td>10</td>\n",
       "      <td>3.300000</td>\n",
       "      <td>1</td>\n",
       "      <td>10</td>\n",
       "      <td>6476</td>\n",
       "      <td>0.529482</td>\n",
       "      <td>3.857058</td>\n",
       "      <td>0.740735</td>\n",
       "      <td>...</td>\n",
       "      <td>59</td>\n",
       "      <td>18</td>\n",
       "      <td>0.759259</td>\n",
       "      <td>5.9</td>\n",
       "      <td>1187899</td>\n",
       "      <td>train</td>\n",
       "      <td>14</td>\n",
       "      <td>1.0</td>\n",
       "      <td>0</td>\n",
       "      <td>NaN</td>\n",
       "    </tr>\n",
       "    <tr>\n",
       "      <th>4</th>\n",
       "      <td>1</td>\n",
       "      <td>13032</td>\n",
       "      <td>3</td>\n",
       "      <td>6.333333</td>\n",
       "      <td>2</td>\n",
       "      <td>10</td>\n",
       "      <td>3751</td>\n",
       "      <td>0.479782</td>\n",
       "      <td>2.916796</td>\n",
       "      <td>0.657158</td>\n",
       "      <td>...</td>\n",
       "      <td>59</td>\n",
       "      <td>18</td>\n",
       "      <td>0.759259</td>\n",
       "      <td>5.9</td>\n",
       "      <td>1187899</td>\n",
       "      <td>train</td>\n",
       "      <td>14</td>\n",
       "      <td>0.3</td>\n",
       "      <td>0</td>\n",
       "      <td>1</td>\n",
       "    </tr>\n",
       "  </tbody>\n",
       "</table>\n",
       "<p>5 rows × 23 columns</p>\n",
       "</div>"
      ],
      "text/plain": [
       "   user_id  product_id  up_orders  up_average_cart_position  up_first_order  \\\n",
       "0        1         196         10                  1.400000               1   \n",
       "1        1       10258          9                  3.333333               2   \n",
       "2        1       10326          1                  5.000000               5   \n",
       "3        1       12427         10                  3.300000               1   \n",
       "4        1       13032          3                  6.333333               2   \n",
       "\n",
       "   up_last_order  prod_orders  prod_reorder_probability  prod_reorder_times  \\\n",
       "0             10        35791                  0.582500            4.473875   \n",
       "1             10         1946                  0.552962            3.493716   \n",
       "2              5         5526                  0.521581            2.873635   \n",
       "3             10         6476                  0.529482            3.857058   \n",
       "4             10         3751                  0.479782            2.916796   \n",
       "\n",
       "   prod_reorder_ratio    ...      user_total_products  user_distinct_products  \\\n",
       "0            0.776480    ...                       59                      18   \n",
       "1            0.713772    ...                       59                      18   \n",
       "2            0.652009    ...                       59                      18   \n",
       "3            0.740735    ...                       59                      18   \n",
       "4            0.657158    ...                       59                      18   \n",
       "\n",
       "   user_reorder_ratio  user_average_basket  order_id  eval_set  \\\n",
       "0            0.759259                  5.9   1187899     train   \n",
       "1            0.759259                  5.9   1187899     train   \n",
       "2            0.759259                  5.9   1187899     train   \n",
       "3            0.759259                  5.9   1187899     train   \n",
       "4            0.759259                  5.9   1187899     train   \n",
       "\n",
       "   days_since_prior_order  up_order_rate up_orders_since_last_order  reordered  \n",
       "0                      14            1.0                          0          1  \n",
       "1                      14            0.9                          0          1  \n",
       "2                      14            0.1                          5        NaN  \n",
       "3                      14            1.0                          0        NaN  \n",
       "4                      14            0.3                          0          1  \n",
       "\n",
       "[5 rows x 23 columns]"
      ]
     },
     "execution_count": 70,
     "metadata": {},
     "output_type": "execute_result"
    }
   ],
   "source": [
    "data.head()"
   ]
  },
  {
   "cell_type": "code",
   "execution_count": 71,
   "metadata": {
    "collapsed": true
   },
   "outputs": [],
   "source": [
    "del (order_products__train, prd, users)"
   ]
  },
  {
   "cell_type": "markdown",
   "metadata": {},
   "source": [
    "we have created the data set with all the feature information we have. Now, let's create Test and Train Data sets from it."
   ]
  },
  {
   "cell_type": "markdown",
   "metadata": {},
   "source": [
    "## Creating Train and Test data sets"
   ]
  },
  {
   "cell_type": "code",
   "execution_count": 72,
   "metadata": {
    "collapsed": true
   },
   "outputs": [],
   "source": [
    "train = data[data['eval_set'] == 'train']"
   ]
  },
  {
   "cell_type": "code",
   "execution_count": 73,
   "metadata": {},
   "outputs": [
    {
     "name": "stderr",
     "output_type": "stream",
     "text": [
      "/usr/local/src/bluemix_jupyter_bundle.v55/notebook/lib/python2.7/site-packages/ipykernel/__main__.py:1: SettingWithCopyWarning: \n",
      "A value is trying to be set on a copy of a slice from a DataFrame\n",
      "\n",
      "See the caveats in the documentation: http://pandas.pydata.org/pandas-docs/stable/indexing.html#indexing-view-versus-copy\n",
      "  if __name__ == '__main__':\n"
     ]
    }
   ],
   "source": [
    "train.drop(train[['eval_set','user_id','product_id','order_id']], axis = 1, inplace = True)"
   ]
  },
  {
   "cell_type": "code",
   "execution_count": 74,
   "metadata": {
    "collapsed": true
   },
   "outputs": [],
   "source": [
    "train = train.fillna({'reordered':0})"
   ]
  },
  {
   "cell_type": "code",
   "execution_count": 75,
   "metadata": {},
   "outputs": [
    {
     "data": {
      "text/html": [
       "<div>\n",
       "<table border=\"1\" class=\"dataframe\">\n",
       "  <thead>\n",
       "    <tr style=\"text-align: right;\">\n",
       "      <th></th>\n",
       "      <th>up_orders</th>\n",
       "      <th>up_average_cart_position</th>\n",
       "      <th>up_first_order</th>\n",
       "      <th>up_last_order</th>\n",
       "      <th>prod_orders</th>\n",
       "      <th>prod_reorder_probability</th>\n",
       "      <th>prod_reorder_times</th>\n",
       "      <th>prod_reorder_ratio</th>\n",
       "      <th>user_period</th>\n",
       "      <th>user_mean_days_since_prior</th>\n",
       "      <th>user_orders</th>\n",
       "      <th>user_total_products</th>\n",
       "      <th>user_distinct_products</th>\n",
       "      <th>user_reorder_ratio</th>\n",
       "      <th>user_average_basket</th>\n",
       "      <th>days_since_prior_order</th>\n",
       "      <th>up_order_rate</th>\n",
       "      <th>up_orders_since_last_order</th>\n",
       "      <th>reordered</th>\n",
       "    </tr>\n",
       "  </thead>\n",
       "  <tbody>\n",
       "    <tr>\n",
       "      <th>0</th>\n",
       "      <td>10</td>\n",
       "      <td>1.400000</td>\n",
       "      <td>1</td>\n",
       "      <td>10</td>\n",
       "      <td>35791</td>\n",
       "      <td>0.582500</td>\n",
       "      <td>4.473875</td>\n",
       "      <td>0.776480</td>\n",
       "      <td>176</td>\n",
       "      <td>19.555556</td>\n",
       "      <td>10</td>\n",
       "      <td>59</td>\n",
       "      <td>18</td>\n",
       "      <td>0.759259</td>\n",
       "      <td>5.9</td>\n",
       "      <td>14</td>\n",
       "      <td>1.0</td>\n",
       "      <td>0</td>\n",
       "      <td>1</td>\n",
       "    </tr>\n",
       "    <tr>\n",
       "      <th>1</th>\n",
       "      <td>9</td>\n",
       "      <td>3.333333</td>\n",
       "      <td>2</td>\n",
       "      <td>10</td>\n",
       "      <td>1946</td>\n",
       "      <td>0.552962</td>\n",
       "      <td>3.493716</td>\n",
       "      <td>0.713772</td>\n",
       "      <td>176</td>\n",
       "      <td>19.555556</td>\n",
       "      <td>10</td>\n",
       "      <td>59</td>\n",
       "      <td>18</td>\n",
       "      <td>0.759259</td>\n",
       "      <td>5.9</td>\n",
       "      <td>14</td>\n",
       "      <td>0.9</td>\n",
       "      <td>0</td>\n",
       "      <td>1</td>\n",
       "    </tr>\n",
       "    <tr>\n",
       "      <th>2</th>\n",
       "      <td>1</td>\n",
       "      <td>5.000000</td>\n",
       "      <td>5</td>\n",
       "      <td>5</td>\n",
       "      <td>5526</td>\n",
       "      <td>0.521581</td>\n",
       "      <td>2.873635</td>\n",
       "      <td>0.652009</td>\n",
       "      <td>176</td>\n",
       "      <td>19.555556</td>\n",
       "      <td>10</td>\n",
       "      <td>59</td>\n",
       "      <td>18</td>\n",
       "      <td>0.759259</td>\n",
       "      <td>5.9</td>\n",
       "      <td>14</td>\n",
       "      <td>0.1</td>\n",
       "      <td>5</td>\n",
       "      <td>0</td>\n",
       "    </tr>\n",
       "    <tr>\n",
       "      <th>3</th>\n",
       "      <td>10</td>\n",
       "      <td>3.300000</td>\n",
       "      <td>1</td>\n",
       "      <td>10</td>\n",
       "      <td>6476</td>\n",
       "      <td>0.529482</td>\n",
       "      <td>3.857058</td>\n",
       "      <td>0.740735</td>\n",
       "      <td>176</td>\n",
       "      <td>19.555556</td>\n",
       "      <td>10</td>\n",
       "      <td>59</td>\n",
       "      <td>18</td>\n",
       "      <td>0.759259</td>\n",
       "      <td>5.9</td>\n",
       "      <td>14</td>\n",
       "      <td>1.0</td>\n",
       "      <td>0</td>\n",
       "      <td>0</td>\n",
       "    </tr>\n",
       "    <tr>\n",
       "      <th>4</th>\n",
       "      <td>3</td>\n",
       "      <td>6.333333</td>\n",
       "      <td>2</td>\n",
       "      <td>10</td>\n",
       "      <td>3751</td>\n",
       "      <td>0.479782</td>\n",
       "      <td>2.916796</td>\n",
       "      <td>0.657158</td>\n",
       "      <td>176</td>\n",
       "      <td>19.555556</td>\n",
       "      <td>10</td>\n",
       "      <td>59</td>\n",
       "      <td>18</td>\n",
       "      <td>0.759259</td>\n",
       "      <td>5.9</td>\n",
       "      <td>14</td>\n",
       "      <td>0.3</td>\n",
       "      <td>0</td>\n",
       "      <td>1</td>\n",
       "    </tr>\n",
       "  </tbody>\n",
       "</table>\n",
       "</div>"
      ],
      "text/plain": [
       "   up_orders  up_average_cart_position  up_first_order  up_last_order  \\\n",
       "0         10                  1.400000               1             10   \n",
       "1          9                  3.333333               2             10   \n",
       "2          1                  5.000000               5              5   \n",
       "3         10                  3.300000               1             10   \n",
       "4          3                  6.333333               2             10   \n",
       "\n",
       "   prod_orders  prod_reorder_probability  prod_reorder_times  \\\n",
       "0        35791                  0.582500            4.473875   \n",
       "1         1946                  0.552962            3.493716   \n",
       "2         5526                  0.521581            2.873635   \n",
       "3         6476                  0.529482            3.857058   \n",
       "4         3751                  0.479782            2.916796   \n",
       "\n",
       "   prod_reorder_ratio  user_period  user_mean_days_since_prior  user_orders  \\\n",
       "0            0.776480          176                   19.555556           10   \n",
       "1            0.713772          176                   19.555556           10   \n",
       "2            0.652009          176                   19.555556           10   \n",
       "3            0.740735          176                   19.555556           10   \n",
       "4            0.657158          176                   19.555556           10   \n",
       "\n",
       "   user_total_products  user_distinct_products  user_reorder_ratio  \\\n",
       "0                   59                      18            0.759259   \n",
       "1                   59                      18            0.759259   \n",
       "2                   59                      18            0.759259   \n",
       "3                   59                      18            0.759259   \n",
       "4                   59                      18            0.759259   \n",
       "\n",
       "   user_average_basket  days_since_prior_order  up_order_rate  \\\n",
       "0                  5.9                      14            1.0   \n",
       "1                  5.9                      14            0.9   \n",
       "2                  5.9                      14            0.1   \n",
       "3                  5.9                      14            1.0   \n",
       "4                  5.9                      14            0.3   \n",
       "\n",
       "   up_orders_since_last_order  reordered  \n",
       "0                           0          1  \n",
       "1                           0          1  \n",
       "2                           5          0  \n",
       "3                           0          0  \n",
       "4                           0          1  "
      ]
     },
     "execution_count": 75,
     "metadata": {},
     "output_type": "execute_result"
    }
   ],
   "source": [
    "train.head()"
   ]
  },
  {
   "cell_type": "code",
   "execution_count": 76,
   "metadata": {
    "collapsed": true
   },
   "outputs": [],
   "source": [
    "test = data[data['eval_set'] == 'test']"
   ]
  },
  {
   "cell_type": "code",
   "execution_count": 77,
   "metadata": {
    "collapsed": true
   },
   "outputs": [],
   "source": [
    "test = test.drop(test[['eval_set','user_id','reordered']], axis = 1)"
   ]
  },
  {
   "cell_type": "code",
   "execution_count": 78,
   "metadata": {},
   "outputs": [
    {
     "data": {
      "text/html": [
       "<div>\n",
       "<table border=\"1\" class=\"dataframe\">\n",
       "  <thead>\n",
       "    <tr style=\"text-align: right;\">\n",
       "      <th></th>\n",
       "      <th>product_id</th>\n",
       "      <th>up_orders</th>\n",
       "      <th>up_average_cart_position</th>\n",
       "      <th>up_first_order</th>\n",
       "      <th>up_last_order</th>\n",
       "      <th>prod_orders</th>\n",
       "      <th>prod_reorder_probability</th>\n",
       "      <th>prod_reorder_times</th>\n",
       "      <th>prod_reorder_ratio</th>\n",
       "      <th>user_period</th>\n",
       "      <th>user_mean_days_since_prior</th>\n",
       "      <th>user_orders</th>\n",
       "      <th>user_total_products</th>\n",
       "      <th>user_distinct_products</th>\n",
       "      <th>user_reorder_ratio</th>\n",
       "      <th>user_average_basket</th>\n",
       "      <th>order_id</th>\n",
       "      <th>days_since_prior_order</th>\n",
       "      <th>up_order_rate</th>\n",
       "      <th>up_orders_since_last_order</th>\n",
       "    </tr>\n",
       "  </thead>\n",
       "  <tbody>\n",
       "    <tr>\n",
       "      <th>18</th>\n",
       "      <td>196</td>\n",
       "      <td>5</td>\n",
       "      <td>2.200</td>\n",
       "      <td>15</td>\n",
       "      <td>22</td>\n",
       "      <td>35791</td>\n",
       "      <td>0.582500</td>\n",
       "      <td>4.473875</td>\n",
       "      <td>0.776480</td>\n",
       "      <td>227</td>\n",
       "      <td>10.809524</td>\n",
       "      <td>22</td>\n",
       "      <td>72</td>\n",
       "      <td>13</td>\n",
       "      <td>0.867647</td>\n",
       "      <td>3.272727</td>\n",
       "      <td>2161313</td>\n",
       "      <td>7</td>\n",
       "      <td>0.227273</td>\n",
       "      <td>0</td>\n",
       "    </tr>\n",
       "    <tr>\n",
       "      <th>19</th>\n",
       "      <td>12427</td>\n",
       "      <td>10</td>\n",
       "      <td>2.100</td>\n",
       "      <td>1</td>\n",
       "      <td>20</td>\n",
       "      <td>6476</td>\n",
       "      <td>0.529482</td>\n",
       "      <td>3.857058</td>\n",
       "      <td>0.740735</td>\n",
       "      <td>227</td>\n",
       "      <td>10.809524</td>\n",
       "      <td>22</td>\n",
       "      <td>72</td>\n",
       "      <td>13</td>\n",
       "      <td>0.867647</td>\n",
       "      <td>3.272727</td>\n",
       "      <td>2161313</td>\n",
       "      <td>7</td>\n",
       "      <td>0.454545</td>\n",
       "      <td>2</td>\n",
       "    </tr>\n",
       "    <tr>\n",
       "      <th>20</th>\n",
       "      <td>1747</td>\n",
       "      <td>4</td>\n",
       "      <td>3.500</td>\n",
       "      <td>8</td>\n",
       "      <td>19</td>\n",
       "      <td>1448</td>\n",
       "      <td>0.393238</td>\n",
       "      <td>2.576512</td>\n",
       "      <td>0.611878</td>\n",
       "      <td>227</td>\n",
       "      <td>10.809524</td>\n",
       "      <td>22</td>\n",
       "      <td>72</td>\n",
       "      <td>13</td>\n",
       "      <td>0.867647</td>\n",
       "      <td>3.272727</td>\n",
       "      <td>2161313</td>\n",
       "      <td>7</td>\n",
       "      <td>0.181818</td>\n",
       "      <td>3</td>\n",
       "    </tr>\n",
       "    <tr>\n",
       "      <th>21</th>\n",
       "      <td>10441</td>\n",
       "      <td>8</td>\n",
       "      <td>2.375</td>\n",
       "      <td>1</td>\n",
       "      <td>22</td>\n",
       "      <td>2909</td>\n",
       "      <td>0.536332</td>\n",
       "      <td>3.355248</td>\n",
       "      <td>0.701959</td>\n",
       "      <td>227</td>\n",
       "      <td>10.809524</td>\n",
       "      <td>22</td>\n",
       "      <td>72</td>\n",
       "      <td>13</td>\n",
       "      <td>0.867647</td>\n",
       "      <td>3.272727</td>\n",
       "      <td>2161313</td>\n",
       "      <td>7</td>\n",
       "      <td>0.363636</td>\n",
       "      <td>0</td>\n",
       "    </tr>\n",
       "    <tr>\n",
       "      <th>22</th>\n",
       "      <td>11266</td>\n",
       "      <td>10</td>\n",
       "      <td>1.600</td>\n",
       "      <td>1</td>\n",
       "      <td>19</td>\n",
       "      <td>4081</td>\n",
       "      <td>0.596670</td>\n",
       "      <td>3.775208</td>\n",
       "      <td>0.735114</td>\n",
       "      <td>227</td>\n",
       "      <td>10.809524</td>\n",
       "      <td>22</td>\n",
       "      <td>72</td>\n",
       "      <td>13</td>\n",
       "      <td>0.867647</td>\n",
       "      <td>3.272727</td>\n",
       "      <td>2161313</td>\n",
       "      <td>7</td>\n",
       "      <td>0.454545</td>\n",
       "      <td>3</td>\n",
       "    </tr>\n",
       "  </tbody>\n",
       "</table>\n",
       "</div>"
      ],
      "text/plain": [
       "    product_id  up_orders  up_average_cart_position  up_first_order  \\\n",
       "18         196          5                     2.200              15   \n",
       "19       12427         10                     2.100               1   \n",
       "20        1747          4                     3.500               8   \n",
       "21       10441          8                     2.375               1   \n",
       "22       11266         10                     1.600               1   \n",
       "\n",
       "    up_last_order  prod_orders  prod_reorder_probability  prod_reorder_times  \\\n",
       "18             22        35791                  0.582500            4.473875   \n",
       "19             20         6476                  0.529482            3.857058   \n",
       "20             19         1448                  0.393238            2.576512   \n",
       "21             22         2909                  0.536332            3.355248   \n",
       "22             19         4081                  0.596670            3.775208   \n",
       "\n",
       "    prod_reorder_ratio  user_period  user_mean_days_since_prior  user_orders  \\\n",
       "18            0.776480          227                   10.809524           22   \n",
       "19            0.740735          227                   10.809524           22   \n",
       "20            0.611878          227                   10.809524           22   \n",
       "21            0.701959          227                   10.809524           22   \n",
       "22            0.735114          227                   10.809524           22   \n",
       "\n",
       "    user_total_products  user_distinct_products  user_reorder_ratio  \\\n",
       "18                   72                      13            0.867647   \n",
       "19                   72                      13            0.867647   \n",
       "20                   72                      13            0.867647   \n",
       "21                   72                      13            0.867647   \n",
       "22                   72                      13            0.867647   \n",
       "\n",
       "    user_average_basket  order_id  days_since_prior_order  up_order_rate  \\\n",
       "18             3.272727   2161313                       7       0.227273   \n",
       "19             3.272727   2161313                       7       0.454545   \n",
       "20             3.272727   2161313                       7       0.181818   \n",
       "21             3.272727   2161313                       7       0.363636   \n",
       "22             3.272727   2161313                       7       0.454545   \n",
       "\n",
       "    up_orders_since_last_order  \n",
       "18                           0  \n",
       "19                           2  \n",
       "20                           3  \n",
       "21                           0  \n",
       "22                           3  "
      ]
     },
     "execution_count": 78,
     "metadata": {},
     "output_type": "execute_result"
    }
   ],
   "source": [
    "test.head()"
   ]
  },
  {
   "cell_type": "code",
   "execution_count": 79,
   "metadata": {
    "collapsed": true
   },
   "outputs": [],
   "source": [
    "del data"
   ]
  },
  {
   "cell_type": "code",
   "execution_count": 80,
   "metadata": {},
   "outputs": [
    {
     "data": {
      "text/plain": [
       "Index([u'up_orders', u'up_average_cart_position', u'up_first_order',\n",
       "       u'up_last_order', u'prod_orders', u'prod_reorder_probability',\n",
       "       u'prod_reorder_times', u'prod_reorder_ratio', u'user_period',\n",
       "       u'user_mean_days_since_prior', u'user_orders', u'user_total_products',\n",
       "       u'user_distinct_products', u'user_reorder_ratio',\n",
       "       u'user_average_basket', u'days_since_prior_order', u'up_order_rate',\n",
       "       u'up_orders_since_last_order', u'reordered'],\n",
       "      dtype='object')"
      ]
     },
     "execution_count": 80,
     "metadata": {},
     "output_type": "execute_result"
    }
   ],
   "source": [
    "train.columns"
   ]
  },
  {
   "cell_type": "code",
   "execution_count": 81,
   "metadata": {},
   "outputs": [
    {
     "data": {
      "text/plain": [
       "Index([u'product_id', u'up_orders', u'up_average_cart_position',\n",
       "       u'up_first_order', u'up_last_order', u'prod_orders',\n",
       "       u'prod_reorder_probability', u'prod_reorder_times',\n",
       "       u'prod_reorder_ratio', u'user_period', u'user_mean_days_since_prior',\n",
       "       u'user_orders', u'user_total_products', u'user_distinct_products',\n",
       "       u'user_reorder_ratio', u'user_average_basket', u'order_id',\n",
       "       u'days_since_prior_order', u'up_order_rate',\n",
       "       u'up_orders_since_last_order'],\n",
       "      dtype='object')"
      ]
     },
     "execution_count": 81,
     "metadata": {},
     "output_type": "execute_result"
    }
   ],
   "source": [
    "test.columns"
   ]
  },
  {
   "cell_type": "markdown",
   "metadata": {},
   "source": [
    "## Preparing Model\n",
    "### Converting Train and Test into arrays"
   ]
  },
  {
   "cell_type": "code",
   "execution_count": 82,
   "metadata": {
    "collapsed": true
   },
   "outputs": [],
   "source": [
    "ind_columns = train.drop(train[['reordered']], axis = 1).columns"
   ]
  },
  {
   "cell_type": "code",
   "execution_count": 83,
   "metadata": {
    "collapsed": true
   },
   "outputs": [],
   "source": [
    "train_ind = train.as_matrix(ind_columns)"
   ]
  },
  {
   "cell_type": "code",
   "execution_count": 84,
   "metadata": {
    "collapsed": true
   },
   "outputs": [],
   "source": [
    "train_dep = train.as_matrix(['reordered'])"
   ]
  },
  {
   "cell_type": "code",
   "execution_count": 85,
   "metadata": {
    "collapsed": true
   },
   "outputs": [],
   "source": [
    "test_columns = test.drop(test[['order_id','product_id']], axis = 1).columns"
   ]
  },
  {
   "cell_type": "code",
   "execution_count": 86,
   "metadata": {
    "collapsed": true
   },
   "outputs": [],
   "source": [
    "test_ind = test.as_matrix(test_columns)"
   ]
  },
  {
   "cell_type": "markdown",
   "metadata": {},
   "source": [
    "## Decision Tree"
   ]
  },
  {
   "cell_type": "code",
   "execution_count": 87,
   "metadata": {
    "collapsed": true
   },
   "outputs": [],
   "source": [
    "from sklearn import tree"
   ]
  },
  {
   "cell_type": "code",
   "execution_count": 88,
   "metadata": {
    "collapsed": true
   },
   "outputs": [],
   "source": [
    "clf = tree.DecisionTreeClassifier()"
   ]
  },
  {
   "cell_type": "code",
   "execution_count": 89,
   "metadata": {
    "collapsed": true
   },
   "outputs": [],
   "source": [
    "clf = clf.fit(train_ind,train_dep)"
   ]
  },
  {
   "cell_type": "code",
   "execution_count": 90,
   "metadata": {
    "collapsed": true
   },
   "outputs": [],
   "source": [
    "prediction = clf.predict(test_ind)"
   ]
  },
  {
   "cell_type": "code",
   "execution_count": 91,
   "metadata": {},
   "outputs": [
    {
     "data": {
      "text/plain": [
       "array([ 0.,  1.,  0., ...,  0.,  1.,  1.])"
      ]
     },
     "execution_count": 91,
     "metadata": {},
     "output_type": "execute_result"
    }
   ],
   "source": [
    "prediction"
   ]
  },
  {
   "cell_type": "code",
   "execution_count": 92,
   "metadata": {
    "collapsed": true
   },
   "outputs": [],
   "source": [
    "test['reordered'] = prediction"
   ]
  },
  {
   "cell_type": "code",
   "execution_count": 93,
   "metadata": {},
   "outputs": [
    {
     "data": {
      "text/html": [
       "<div>\n",
       "<table border=\"1\" class=\"dataframe\">\n",
       "  <thead>\n",
       "    <tr style=\"text-align: right;\">\n",
       "      <th></th>\n",
       "      <th>product_id</th>\n",
       "      <th>up_orders</th>\n",
       "      <th>up_average_cart_position</th>\n",
       "      <th>up_first_order</th>\n",
       "      <th>up_last_order</th>\n",
       "      <th>prod_orders</th>\n",
       "      <th>prod_reorder_probability</th>\n",
       "      <th>prod_reorder_times</th>\n",
       "      <th>prod_reorder_ratio</th>\n",
       "      <th>user_period</th>\n",
       "      <th>...</th>\n",
       "      <th>user_orders</th>\n",
       "      <th>user_total_products</th>\n",
       "      <th>user_distinct_products</th>\n",
       "      <th>user_reorder_ratio</th>\n",
       "      <th>user_average_basket</th>\n",
       "      <th>order_id</th>\n",
       "      <th>days_since_prior_order</th>\n",
       "      <th>up_order_rate</th>\n",
       "      <th>up_orders_since_last_order</th>\n",
       "      <th>reordered</th>\n",
       "    </tr>\n",
       "  </thead>\n",
       "  <tbody>\n",
       "    <tr>\n",
       "      <th>18</th>\n",
       "      <td>196</td>\n",
       "      <td>5</td>\n",
       "      <td>2.200</td>\n",
       "      <td>15</td>\n",
       "      <td>22</td>\n",
       "      <td>35791</td>\n",
       "      <td>0.582500</td>\n",
       "      <td>4.473875</td>\n",
       "      <td>0.776480</td>\n",
       "      <td>227</td>\n",
       "      <td>...</td>\n",
       "      <td>22</td>\n",
       "      <td>72</td>\n",
       "      <td>13</td>\n",
       "      <td>0.867647</td>\n",
       "      <td>3.272727</td>\n",
       "      <td>2161313</td>\n",
       "      <td>7</td>\n",
       "      <td>0.227273</td>\n",
       "      <td>0</td>\n",
       "      <td>0</td>\n",
       "    </tr>\n",
       "    <tr>\n",
       "      <th>19</th>\n",
       "      <td>12427</td>\n",
       "      <td>10</td>\n",
       "      <td>2.100</td>\n",
       "      <td>1</td>\n",
       "      <td>20</td>\n",
       "      <td>6476</td>\n",
       "      <td>0.529482</td>\n",
       "      <td>3.857058</td>\n",
       "      <td>0.740735</td>\n",
       "      <td>227</td>\n",
       "      <td>...</td>\n",
       "      <td>22</td>\n",
       "      <td>72</td>\n",
       "      <td>13</td>\n",
       "      <td>0.867647</td>\n",
       "      <td>3.272727</td>\n",
       "      <td>2161313</td>\n",
       "      <td>7</td>\n",
       "      <td>0.454545</td>\n",
       "      <td>2</td>\n",
       "      <td>1</td>\n",
       "    </tr>\n",
       "    <tr>\n",
       "      <th>20</th>\n",
       "      <td>1747</td>\n",
       "      <td>4</td>\n",
       "      <td>3.500</td>\n",
       "      <td>8</td>\n",
       "      <td>19</td>\n",
       "      <td>1448</td>\n",
       "      <td>0.393238</td>\n",
       "      <td>2.576512</td>\n",
       "      <td>0.611878</td>\n",
       "      <td>227</td>\n",
       "      <td>...</td>\n",
       "      <td>22</td>\n",
       "      <td>72</td>\n",
       "      <td>13</td>\n",
       "      <td>0.867647</td>\n",
       "      <td>3.272727</td>\n",
       "      <td>2161313</td>\n",
       "      <td>7</td>\n",
       "      <td>0.181818</td>\n",
       "      <td>3</td>\n",
       "      <td>0</td>\n",
       "    </tr>\n",
       "    <tr>\n",
       "      <th>21</th>\n",
       "      <td>10441</td>\n",
       "      <td>8</td>\n",
       "      <td>2.375</td>\n",
       "      <td>1</td>\n",
       "      <td>22</td>\n",
       "      <td>2909</td>\n",
       "      <td>0.536332</td>\n",
       "      <td>3.355248</td>\n",
       "      <td>0.701959</td>\n",
       "      <td>227</td>\n",
       "      <td>...</td>\n",
       "      <td>22</td>\n",
       "      <td>72</td>\n",
       "      <td>13</td>\n",
       "      <td>0.867647</td>\n",
       "      <td>3.272727</td>\n",
       "      <td>2161313</td>\n",
       "      <td>7</td>\n",
       "      <td>0.363636</td>\n",
       "      <td>0</td>\n",
       "      <td>0</td>\n",
       "    </tr>\n",
       "    <tr>\n",
       "      <th>22</th>\n",
       "      <td>11266</td>\n",
       "      <td>10</td>\n",
       "      <td>1.600</td>\n",
       "      <td>1</td>\n",
       "      <td>19</td>\n",
       "      <td>4081</td>\n",
       "      <td>0.596670</td>\n",
       "      <td>3.775208</td>\n",
       "      <td>0.735114</td>\n",
       "      <td>227</td>\n",
       "      <td>...</td>\n",
       "      <td>22</td>\n",
       "      <td>72</td>\n",
       "      <td>13</td>\n",
       "      <td>0.867647</td>\n",
       "      <td>3.272727</td>\n",
       "      <td>2161313</td>\n",
       "      <td>7</td>\n",
       "      <td>0.454545</td>\n",
       "      <td>3</td>\n",
       "      <td>0</td>\n",
       "    </tr>\n",
       "  </tbody>\n",
       "</table>\n",
       "<p>5 rows × 21 columns</p>\n",
       "</div>"
      ],
      "text/plain": [
       "    product_id  up_orders  up_average_cart_position  up_first_order  \\\n",
       "18         196          5                     2.200              15   \n",
       "19       12427         10                     2.100               1   \n",
       "20        1747          4                     3.500               8   \n",
       "21       10441          8                     2.375               1   \n",
       "22       11266         10                     1.600               1   \n",
       "\n",
       "    up_last_order  prod_orders  prod_reorder_probability  prod_reorder_times  \\\n",
       "18             22        35791                  0.582500            4.473875   \n",
       "19             20         6476                  0.529482            3.857058   \n",
       "20             19         1448                  0.393238            2.576512   \n",
       "21             22         2909                  0.536332            3.355248   \n",
       "22             19         4081                  0.596670            3.775208   \n",
       "\n",
       "    prod_reorder_ratio  user_period    ...      user_orders  \\\n",
       "18            0.776480          227    ...               22   \n",
       "19            0.740735          227    ...               22   \n",
       "20            0.611878          227    ...               22   \n",
       "21            0.701959          227    ...               22   \n",
       "22            0.735114          227    ...               22   \n",
       "\n",
       "    user_total_products  user_distinct_products  user_reorder_ratio  \\\n",
       "18                   72                      13            0.867647   \n",
       "19                   72                      13            0.867647   \n",
       "20                   72                      13            0.867647   \n",
       "21                   72                      13            0.867647   \n",
       "22                   72                      13            0.867647   \n",
       "\n",
       "    user_average_basket  order_id  days_since_prior_order  up_order_rate  \\\n",
       "18             3.272727   2161313                       7       0.227273   \n",
       "19             3.272727   2161313                       7       0.454545   \n",
       "20             3.272727   2161313                       7       0.181818   \n",
       "21             3.272727   2161313                       7       0.363636   \n",
       "22             3.272727   2161313                       7       0.454545   \n",
       "\n",
       "    up_orders_since_last_order  reordered  \n",
       "18                           0          0  \n",
       "19                           2          1  \n",
       "20                           3          0  \n",
       "21                           0          0  \n",
       "22                           3          0  \n",
       "\n",
       "[5 rows x 21 columns]"
      ]
     },
     "execution_count": 93,
     "metadata": {},
     "output_type": "execute_result"
    }
   ],
   "source": [
    "test.head()"
   ]
  },
  {
   "cell_type": "code",
   "execution_count": 94,
   "metadata": {
    "collapsed": true
   },
   "outputs": [],
   "source": [
    "result_file = test[test['reordered'] == 1]\n",
    "result_file = result_file.groupby(['order_id'])['product_id'].unique().reset_index()\n",
    "result_file = result_file.rename(columns = {'product_id':'products'})"
   ]
  },
  {
   "cell_type": "code",
   "execution_count": 95,
   "metadata": {},
   "outputs": [
    {
     "data": {
      "text/html": [
       "<div>\n",
       "<table border=\"1\" class=\"dataframe\">\n",
       "  <thead>\n",
       "    <tr style=\"text-align: right;\">\n",
       "      <th></th>\n",
       "      <th>order_id</th>\n",
       "      <th>products</th>\n",
       "    </tr>\n",
       "  </thead>\n",
       "  <tbody>\n",
       "    <tr>\n",
       "      <th>0</th>\n",
       "      <td>17</td>\n",
       "      <td>[47766, 39275, 48896]</td>\n",
       "    </tr>\n",
       "    <tr>\n",
       "      <th>1</th>\n",
       "      <td>34</td>\n",
       "      <td>[13176, 47792, 7948, 37947, 43504, 18618, 5242]</td>\n",
       "    </tr>\n",
       "    <tr>\n",
       "      <th>2</th>\n",
       "      <td>137</td>\n",
       "      <td>[24852, 14992, 21903, 29594, 24184, 44422, 441...</td>\n",
       "    </tr>\n",
       "    <tr>\n",
       "      <th>3</th>\n",
       "      <td>182</td>\n",
       "      <td>[5479, 44389, 38383]</td>\n",
       "    </tr>\n",
       "    <tr>\n",
       "      <th>4</th>\n",
       "      <td>257</td>\n",
       "      <td>[24852, 27966, 21137, 22035, 36929]</td>\n",
       "    </tr>\n",
       "  </tbody>\n",
       "</table>\n",
       "</div>"
      ],
      "text/plain": [
       "   order_id                                           products\n",
       "0        17                              [47766, 39275, 48896]\n",
       "1        34    [13176, 47792, 7948, 37947, 43504, 18618, 5242]\n",
       "2       137  [24852, 14992, 21903, 29594, 24184, 44422, 441...\n",
       "3       182                               [5479, 44389, 38383]\n",
       "4       257                [24852, 27966, 21137, 22035, 36929]"
      ]
     },
     "execution_count": 95,
     "metadata": {},
     "output_type": "execute_result"
    }
   ],
   "source": [
    "result_file.head()"
   ]
  },
  {
   "cell_type": "code",
   "execution_count": 96,
   "metadata": {
    "collapsed": true
   },
   "outputs": [],
   "source": [
    "final_result = pd.DataFrame({'order_id':orders[orders['eval_set'] == 'test'].order_id})\n",
    "final_result = final_result.merge(result_file, on = 'order_id', how = 'left')\n",
    "final_result = final_result.sort_values(['order_id'])\n",
    "final_result = final_result.fillna({'products':'None'})"
   ]
  },
  {
   "cell_type": "markdown",
   "metadata": {},
   "source": [
    "### Saving the final result"
   ]
  },
  {
   "cell_type": "code",
   "execution_count": 97,
   "metadata": {
    "collapsed": true
   },
   "outputs": [],
   "source": [
    "final_result.to_csv('insta_result.csv', index = False)"
   ]
  }
 ],
 "metadata": {
  "kernelspec": {
   "display_name": "Python 2",
   "language": "python",
   "name": "python2"
  },
  "language_info": {
   "codemirror_mode": {
    "name": "ipython",
    "version": 2
   },
   "file_extension": ".py",
   "mimetype": "text/x-python",
   "name": "python",
   "nbconvert_exporter": "python",
   "pygments_lexer": "ipython2",
   "version": "2.7.13"
  }
 },
 "nbformat": 4,
 "nbformat_minor": 2
}
